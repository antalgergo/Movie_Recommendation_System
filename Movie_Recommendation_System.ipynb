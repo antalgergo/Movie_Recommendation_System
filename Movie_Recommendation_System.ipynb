{
 "cells": [
  {
   "cell_type": "markdown",
   "id": "e8f37cd8-d903-4ab0-a245-a58b217c4d90",
   "metadata": {},
   "source": [
    "# Portfolio Project - Build a Movie Recommendation System in Python"
   ]
  },
  {
   "cell_type": "markdown",
   "id": "8ff7ec10-6a4a-4e2e-9058-2fc917142abc",
   "metadata": {},
   "source": [
    "### Reading in Our Movie Data in Pandas"
   ]
  },
  {
   "cell_type": "code",
   "execution_count": 1,
   "id": "6f849475-2daa-403e-b2c2-b457050918cd",
   "metadata": {},
   "outputs": [],
   "source": [
    "import pandas as pd"
   ]
  },
  {
   "cell_type": "code",
   "execution_count": 2,
   "id": "036c96fd-4d2a-43c9-972b-ff4d100de9e9",
   "metadata": {},
   "outputs": [],
   "source": [
    "movies = pd.read_csv(\"movies.csv\")"
   ]
  },
  {
   "cell_type": "markdown",
   "id": "8c2ddb7b-c390-4b6c-824f-014c2931fc41",
   "metadata": {},
   "source": [
    "You can download the .csv file from [here](https://files.grouplens.org/datasets/movielens/ml-25m.zip)"
   ]
  },
  {
   "cell_type": "code",
   "execution_count": 3,
   "id": "bfc6eb54-9143-4e1f-a5f0-35f6b670b946",
   "metadata": {},
   "outputs": [
    {
     "data": {
      "text/html": [
       "<div>\n",
       "<style scoped>\n",
       "    .dataframe tbody tr th:only-of-type {\n",
       "        vertical-align: middle;\n",
       "    }\n",
       "\n",
       "    .dataframe tbody tr th {\n",
       "        vertical-align: top;\n",
       "    }\n",
       "\n",
       "    .dataframe thead th {\n",
       "        text-align: right;\n",
       "    }\n",
       "</style>\n",
       "<table border=\"1\" class=\"dataframe\">\n",
       "  <thead>\n",
       "    <tr style=\"text-align: right;\">\n",
       "      <th></th>\n",
       "      <th>movieId</th>\n",
       "      <th>title</th>\n",
       "      <th>genres</th>\n",
       "    </tr>\n",
       "  </thead>\n",
       "  <tbody>\n",
       "    <tr>\n",
       "      <th>0</th>\n",
       "      <td>1</td>\n",
       "      <td>Toy Story (1995)</td>\n",
       "      <td>Adventure|Animation|Children|Comedy|Fantasy</td>\n",
       "    </tr>\n",
       "    <tr>\n",
       "      <th>1</th>\n",
       "      <td>2</td>\n",
       "      <td>Jumanji (1995)</td>\n",
       "      <td>Adventure|Children|Fantasy</td>\n",
       "    </tr>\n",
       "    <tr>\n",
       "      <th>2</th>\n",
       "      <td>3</td>\n",
       "      <td>Grumpier Old Men (1995)</td>\n",
       "      <td>Comedy|Romance</td>\n",
       "    </tr>\n",
       "    <tr>\n",
       "      <th>3</th>\n",
       "      <td>4</td>\n",
       "      <td>Waiting to Exhale (1995)</td>\n",
       "      <td>Comedy|Drama|Romance</td>\n",
       "    </tr>\n",
       "    <tr>\n",
       "      <th>4</th>\n",
       "      <td>5</td>\n",
       "      <td>Father of the Bride Part II (1995)</td>\n",
       "      <td>Comedy</td>\n",
       "    </tr>\n",
       "  </tbody>\n",
       "</table>\n",
       "</div>"
      ],
      "text/plain": [
       "   movieId                               title  \\\n",
       "0        1                    Toy Story (1995)   \n",
       "1        2                      Jumanji (1995)   \n",
       "2        3             Grumpier Old Men (1995)   \n",
       "3        4            Waiting to Exhale (1995)   \n",
       "4        5  Father of the Bride Part II (1995)   \n",
       "\n",
       "                                        genres  \n",
       "0  Adventure|Animation|Children|Comedy|Fantasy  \n",
       "1                   Adventure|Children|Fantasy  \n",
       "2                               Comedy|Romance  \n",
       "3                         Comedy|Drama|Romance  \n",
       "4                                       Comedy  "
      ]
     },
     "execution_count": 3,
     "metadata": {},
     "output_type": "execute_result"
    }
   ],
   "source": [
    "movies.head()"
   ]
  },
  {
   "cell_type": "markdown",
   "id": "4e376a29-a6e4-48c2-9de7-bc3624fa8cec",
   "metadata": {},
   "source": [
    "### Cleaning Movie Titles Using Regex"
   ]
  },
  {
   "cell_type": "code",
   "execution_count": 4,
   "id": "fbc9d810-876c-4698-9719-325db9ff24d7",
   "metadata": {},
   "outputs": [],
   "source": [
    "import re"
   ]
  },
  {
   "cell_type": "code",
   "execution_count": 5,
   "id": "ed88012d-a726-4966-b888-d9fd593e76d7",
   "metadata": {},
   "outputs": [],
   "source": [
    "# This function takes in a title and returns the cleaned title. It should remove any character that isn't a letter, digit, or a space.\n",
    "def cleaning_title(title):\n",
    "\n",
    "    return re.sub(r\"[^a-zA-Z0-9\\s]*\", \"\", title)"
   ]
  },
  {
   "cell_type": "code",
   "execution_count": 6,
   "id": "1532c3a6-5021-42c7-978c-1c88f1b930d5",
   "metadata": {},
   "outputs": [],
   "source": [
    "movies[\"clean_title\"] = movies[\"title\"].apply(cleaning_title)"
   ]
  },
  {
   "cell_type": "code",
   "execution_count": 7,
   "id": "de217acd-b9d2-45cb-b88e-36d589aaec73",
   "metadata": {},
   "outputs": [
    {
     "data": {
      "text/html": [
       "<div>\n",
       "<style scoped>\n",
       "    .dataframe tbody tr th:only-of-type {\n",
       "        vertical-align: middle;\n",
       "    }\n",
       "\n",
       "    .dataframe tbody tr th {\n",
       "        vertical-align: top;\n",
       "    }\n",
       "\n",
       "    .dataframe thead th {\n",
       "        text-align: right;\n",
       "    }\n",
       "</style>\n",
       "<table border=\"1\" class=\"dataframe\">\n",
       "  <thead>\n",
       "    <tr style=\"text-align: right;\">\n",
       "      <th></th>\n",
       "      <th>movieId</th>\n",
       "      <th>title</th>\n",
       "      <th>genres</th>\n",
       "      <th>clean_title</th>\n",
       "    </tr>\n",
       "  </thead>\n",
       "  <tbody>\n",
       "    <tr>\n",
       "      <th>0</th>\n",
       "      <td>1</td>\n",
       "      <td>Toy Story (1995)</td>\n",
       "      <td>Adventure|Animation|Children|Comedy|Fantasy</td>\n",
       "      <td>Toy Story 1995</td>\n",
       "    </tr>\n",
       "    <tr>\n",
       "      <th>1</th>\n",
       "      <td>2</td>\n",
       "      <td>Jumanji (1995)</td>\n",
       "      <td>Adventure|Children|Fantasy</td>\n",
       "      <td>Jumanji 1995</td>\n",
       "    </tr>\n",
       "    <tr>\n",
       "      <th>2</th>\n",
       "      <td>3</td>\n",
       "      <td>Grumpier Old Men (1995)</td>\n",
       "      <td>Comedy|Romance</td>\n",
       "      <td>Grumpier Old Men 1995</td>\n",
       "    </tr>\n",
       "    <tr>\n",
       "      <th>3</th>\n",
       "      <td>4</td>\n",
       "      <td>Waiting to Exhale (1995)</td>\n",
       "      <td>Comedy|Drama|Romance</td>\n",
       "      <td>Waiting to Exhale 1995</td>\n",
       "    </tr>\n",
       "    <tr>\n",
       "      <th>4</th>\n",
       "      <td>5</td>\n",
       "      <td>Father of the Bride Part II (1995)</td>\n",
       "      <td>Comedy</td>\n",
       "      <td>Father of the Bride Part II 1995</td>\n",
       "    </tr>\n",
       "  </tbody>\n",
       "</table>\n",
       "</div>"
      ],
      "text/plain": [
       "   movieId                               title  \\\n",
       "0        1                    Toy Story (1995)   \n",
       "1        2                      Jumanji (1995)   \n",
       "2        3             Grumpier Old Men (1995)   \n",
       "3        4            Waiting to Exhale (1995)   \n",
       "4        5  Father of the Bride Part II (1995)   \n",
       "\n",
       "                                        genres  \\\n",
       "0  Adventure|Animation|Children|Comedy|Fantasy   \n",
       "1                   Adventure|Children|Fantasy   \n",
       "2                               Comedy|Romance   \n",
       "3                         Comedy|Drama|Romance   \n",
       "4                                       Comedy   \n",
       "\n",
       "                        clean_title  \n",
       "0                    Toy Story 1995  \n",
       "1                      Jumanji 1995  \n",
       "2             Grumpier Old Men 1995  \n",
       "3            Waiting to Exhale 1995  \n",
       "4  Father of the Bride Part II 1995  "
      ]
     },
     "execution_count": 7,
     "metadata": {},
     "output_type": "execute_result"
    }
   ],
   "source": [
    "movies.head()"
   ]
  },
  {
   "cell_type": "markdown",
   "id": "c2b2c737-709d-4391-ba36-50da7dda1242",
   "metadata": {},
   "source": [
    "### Creating a TFIDF Matrix"
   ]
  },
  {
   "cell_type": "code",
   "execution_count": 8,
   "id": "8c1d6a92-8195-4687-96f9-3ed448798fc3",
   "metadata": {},
   "outputs": [],
   "source": [
    "from sklearn.feature_extraction.text import TfidfVectorizer"
   ]
  },
  {
   "cell_type": "code",
   "execution_count": 9,
   "id": "48d6e2c5-a63b-45bb-92f4-8891d8720bb3",
   "metadata": {},
   "outputs": [],
   "source": [
    "vectorizer = TfidfVectorizer(ngram_range=(1, 2))"
   ]
  },
  {
   "cell_type": "code",
   "execution_count": 10,
   "id": "e16d6c41-07cd-417d-9349-a81aa110b9dd",
   "metadata": {},
   "outputs": [],
   "source": [
    "tfidf_matrix = vectorizer.fit_transform(movies[\"clean_title\"])"
   ]
  },
  {
   "cell_type": "markdown",
   "id": "4342ba12-33b6-41e1-9ba7-27f56d752b16",
   "metadata": {},
   "source": [
    "### Creating a Search Function"
   ]
  },
  {
   "cell_type": "code",
   "execution_count": 11,
   "id": "6f0c0724-2042-4985-a2d4-579261e55625",
   "metadata": {},
   "outputs": [],
   "source": [
    "import numpy as np"
   ]
  },
  {
   "cell_type": "code",
   "execution_count": 12,
   "id": "3b1fa241-88e8-4cc4-8f71-700e1aa35279",
   "metadata": {},
   "outputs": [],
   "source": [
    "from sklearn.metrics.pairwise import cosine_similarity"
   ]
  },
  {
   "cell_type": "code",
   "execution_count": 13,
   "id": "bd265601-db31-4730-a092-8e621d7c59b0",
   "metadata": {},
   "outputs": [],
   "source": [
    "def search(term):\n",
    "    \n",
    "    cleaned_pattern = cleaning_title(term)\n",
    "\n",
    "    pattern_vector = vectorizer.transform([cleaned_pattern]) \n",
    "\n",
    "    similarities = cosine_similarity(pattern_vector, tfidf_matrix)\n",
    "\n",
    "    top5 = np.argsort(similarities[0])[-5:][::-1]\n",
    "    \n",
    "    return movies.iloc[top5, 1]"
   ]
  },
  {
   "cell_type": "code",
   "execution_count": 14,
   "id": "8c0ce1a6-c714-4e7e-9d9b-36e25d0ea365",
   "metadata": {},
   "outputs": [],
   "source": [
    "toy_story = search(\"Terminator\") # Testing the function"
   ]
  },
  {
   "cell_type": "code",
   "execution_count": 15,
   "id": "14423bf7-42e7-4a70-86f2-8028ed71845e",
   "metadata": {},
   "outputs": [
    {
     "data": {
      "text/plain": [
       "1207                Terminator, The (1984)\n",
       "13334          Terminator Salvation (2009)\n",
       "31990            Russian Terminator (1989)\n",
       "24155            Terminator Genisys (2015)\n",
       "581      Terminator 2: Judgment Day (1991)\n",
       "Name: title, dtype: object"
      ]
     },
     "execution_count": 15,
     "metadata": {},
     "output_type": "execute_result"
    }
   ],
   "source": [
    "toy_story"
   ]
  },
  {
   "cell_type": "markdown",
   "id": "7ba4a150-37c1-47f3-a294-dee246e63f54",
   "metadata": {},
   "source": [
    "### Building an Interactive Search Box in Jupyter"
   ]
  },
  {
   "cell_type": "code",
   "execution_count": 16,
   "id": "2c3eee1f-51ba-4307-9030-f6eae5adc398",
   "metadata": {},
   "outputs": [],
   "source": [
    "import ipywidgets as widgets\n",
    "from IPython.display import display"
   ]
  },
  {
   "cell_type": "code",
   "execution_count": 17,
   "id": "0682427b-0462-4ef5-b0c7-a18ef831766b",
   "metadata": {},
   "outputs": [],
   "source": [
    "input_widget = widgets.Text(placeholder=\"Please type the title here\")\n",
    "search_button = widgets.Button(description=\"Search\")\n",
    "output_widget = widgets.HTML()"
   ]
  },
  {
   "cell_type": "code",
   "execution_count": 18,
   "id": "3b9a8444-85b2-44d7-9b84-b9e689a735a7",
   "metadata": {},
   "outputs": [],
   "source": [
    "def on_search_clicked(e):\n",
    "\n",
    "    recommendation = search(input_widget.value)\n",
    "\n",
    "    result = \"<ul>\"\n",
    "    for title in recommendation:\n",
    "        result += f\"<li>{title} </li>\"\n",
    "    result += \"</ul>\"\n",
    "    \n",
    "    output_widget.value = result"
   ]
  },
  {
   "cell_type": "code",
   "execution_count": 19,
   "id": "b26a1c03-7b47-4623-bb06-7a3f490092d6",
   "metadata": {},
   "outputs": [],
   "source": [
    "search_button.on_click(on_search_clicked)"
   ]
  },
  {
   "cell_type": "markdown",
   "id": "8e1c1623-b998-43a5-8e79-8fc62dde8f92",
   "metadata": {},
   "source": [
    "#### The search function in action"
   ]
  },
  {
   "cell_type": "markdown",
   "id": "d42e5fd9-2b2b-407c-bd6b-3ca7da2867c0",
   "metadata": {},
   "source": [
    "Note: It usable in realtime, feel free to try it"
   ]
  },
  {
   "cell_type": "code",
   "execution_count": 20,
   "id": "3a0a8615-4753-45ed-a9cb-a5931d2206a5",
   "metadata": {},
   "outputs": [
    {
     "data": {
      "application/vnd.jupyter.widget-view+json": {
       "model_id": "3be036175aea4f0bb77a8bac9d3c81c5",
       "version_major": 2,
       "version_minor": 0
      },
      "text/plain": [
       "Text(value='', placeholder='Please type the title here')"
      ]
     },
     "metadata": {},
     "output_type": "display_data"
    },
    {
     "data": {
      "application/vnd.jupyter.widget-view+json": {
       "model_id": "24df58e68ef9439b88750e97b06db66d",
       "version_major": 2,
       "version_minor": 0
      },
      "text/plain": [
       "Button(description='Search', style=ButtonStyle())"
      ]
     },
     "metadata": {},
     "output_type": "display_data"
    },
    {
     "data": {
      "application/vnd.jupyter.widget-view+json": {
       "model_id": "2b7cc8c0fdc44d21a981e19f687722d0",
       "version_major": 2,
       "version_minor": 0
      },
      "text/plain": [
       "HTML(value='')"
      ]
     },
     "metadata": {},
     "output_type": "display_data"
    }
   ],
   "source": [
    "display(input_widget, search_button, output_widget)"
   ]
  },
  {
   "cell_type": "markdown",
   "id": "105772e2-1a39-484d-8ba7-45b4bf833f65",
   "metadata": {},
   "source": [
    "### Reading in Movie Ratings Data & Finding Users Who Liked the Same Movie\n"
   ]
  },
  {
   "cell_type": "markdown",
   "id": "692f1753-96f7-423a-9e37-fdc9eb0a2d01",
   "metadata": {},
   "source": [
    "In this section finding movies that liked by users who liked the sample movie which is the Toy Story with `movieId` 1."
   ]
  },
  {
   "cell_type": "code",
   "execution_count": 21,
   "id": "c848e782-bbb1-4c31-8d95-6aab31d5e94f",
   "metadata": {},
   "outputs": [],
   "source": [
    "ratings = pd.read_csv(\"ratings.csv\")"
   ]
  },
  {
   "cell_type": "code",
   "execution_count": 22,
   "id": "f0ab5f8d-36c8-4c9c-a983-7fb6255b3121",
   "metadata": {},
   "outputs": [
    {
     "name": "stdout",
     "output_type": "stream",
     "text": [
      "<class 'pandas.core.frame.DataFrame'>\n",
      "RangeIndex: 25000095 entries, 0 to 25000094\n",
      "Data columns (total 4 columns):\n",
      " #   Column     Dtype  \n",
      "---  ------     -----  \n",
      " 0   userId     int64  \n",
      " 1   movieId    int64  \n",
      " 2   rating     float64\n",
      " 3   timestamp  int64  \n",
      "dtypes: float64(1), int64(3)\n",
      "memory usage: 762.9 MB\n"
     ]
    }
   ],
   "source": [
    "ratings.info()"
   ]
  },
  {
   "cell_type": "code",
   "execution_count": 23,
   "id": "4381eb37-950a-4902-9937-81572a2226c0",
   "metadata": {},
   "outputs": [],
   "source": [
    "# Finding the users who also liked the same movie we liked. In this example the Toy Story (movieId: 1)\n",
    "similar_users = ratings[(ratings[\"movieId\"] == 1) & (ratings[\"rating\"] > 4)][\"userId\"]"
   ]
  },
  {
   "cell_type": "code",
   "execution_count": 24,
   "id": "e4d9c45c-b80c-4bf9-a2c2-544bc043ddd5",
   "metadata": {},
   "outputs": [
    {
     "data": {
      "text/plain": [
       "5101            36\n",
       "9939            75\n",
       "11842           86\n",
       "12232           90\n",
       "12504           93\n",
       "             ...  \n",
       "24996419    162519\n",
       "24997459    162524\n",
       "24997758    162527\n",
       "24998300    162530\n",
       "24998525    162533\n",
       "Name: userId, Length: 18835, dtype: int64"
      ]
     },
     "execution_count": 24,
     "metadata": {},
     "output_type": "execute_result"
    }
   ],
   "source": [
    "similar_users"
   ]
  },
  {
   "cell_type": "code",
   "execution_count": 25,
   "id": "32d1f54e-21a9-4233-85da-875531481892",
   "metadata": {},
   "outputs": [],
   "source": [
    "similar_movies = ratings[(ratings[\"userId\"].isin(similar_users)) & (ratings[\"rating\"] > 4)] # Finding the other movies that they liked."
   ]
  },
  {
   "cell_type": "code",
   "execution_count": 26,
   "id": "5d4f1e3e-0f3b-47dc-a03d-d9efbb32a646",
   "metadata": {},
   "outputs": [
    {
     "data": {
      "text/html": [
       "<div>\n",
       "<style scoped>\n",
       "    .dataframe tbody tr th:only-of-type {\n",
       "        vertical-align: middle;\n",
       "    }\n",
       "\n",
       "    .dataframe tbody tr th {\n",
       "        vertical-align: top;\n",
       "    }\n",
       "\n",
       "    .dataframe thead th {\n",
       "        text-align: right;\n",
       "    }\n",
       "</style>\n",
       "<table border=\"1\" class=\"dataframe\">\n",
       "  <thead>\n",
       "    <tr style=\"text-align: right;\">\n",
       "      <th></th>\n",
       "      <th>userId</th>\n",
       "      <th>movieId</th>\n",
       "      <th>rating</th>\n",
       "      <th>timestamp</th>\n",
       "    </tr>\n",
       "  </thead>\n",
       "  <tbody>\n",
       "    <tr>\n",
       "      <th>5101</th>\n",
       "      <td>36</td>\n",
       "      <td>1</td>\n",
       "      <td>5.0</td>\n",
       "      <td>857131378</td>\n",
       "    </tr>\n",
       "    <tr>\n",
       "      <th>5105</th>\n",
       "      <td>36</td>\n",
       "      <td>34</td>\n",
       "      <td>5.0</td>\n",
       "      <td>834413787</td>\n",
       "    </tr>\n",
       "    <tr>\n",
       "      <th>5111</th>\n",
       "      <td>36</td>\n",
       "      <td>110</td>\n",
       "      <td>5.0</td>\n",
       "      <td>834412999</td>\n",
       "    </tr>\n",
       "    <tr>\n",
       "      <th>5114</th>\n",
       "      <td>36</td>\n",
       "      <td>150</td>\n",
       "      <td>5.0</td>\n",
       "      <td>839928587</td>\n",
       "    </tr>\n",
       "    <tr>\n",
       "      <th>5127</th>\n",
       "      <td>36</td>\n",
       "      <td>260</td>\n",
       "      <td>5.0</td>\n",
       "      <td>857131062</td>\n",
       "    </tr>\n",
       "    <tr>\n",
       "      <th>...</th>\n",
       "      <td>...</td>\n",
       "      <td>...</td>\n",
       "      <td>...</td>\n",
       "      <td>...</td>\n",
       "    </tr>\n",
       "    <tr>\n",
       "      <th>24998854</th>\n",
       "      <td>162533</td>\n",
       "      <td>60069</td>\n",
       "      <td>4.5</td>\n",
       "      <td>1280919889</td>\n",
       "    </tr>\n",
       "    <tr>\n",
       "      <th>24998861</th>\n",
       "      <td>162533</td>\n",
       "      <td>67997</td>\n",
       "      <td>4.5</td>\n",
       "      <td>1280920712</td>\n",
       "    </tr>\n",
       "    <tr>\n",
       "      <th>24998876</th>\n",
       "      <td>162533</td>\n",
       "      <td>78499</td>\n",
       "      <td>4.5</td>\n",
       "      <td>1281405901</td>\n",
       "    </tr>\n",
       "    <tr>\n",
       "      <th>24998884</th>\n",
       "      <td>162533</td>\n",
       "      <td>81591</td>\n",
       "      <td>4.5</td>\n",
       "      <td>1297289876</td>\n",
       "    </tr>\n",
       "    <tr>\n",
       "      <th>24998888</th>\n",
       "      <td>162533</td>\n",
       "      <td>88129</td>\n",
       "      <td>4.5</td>\n",
       "      <td>1329514139</td>\n",
       "    </tr>\n",
       "  </tbody>\n",
       "</table>\n",
       "<p>1358326 rows × 4 columns</p>\n",
       "</div>"
      ],
      "text/plain": [
       "          userId  movieId  rating   timestamp\n",
       "5101          36        1     5.0   857131378\n",
       "5105          36       34     5.0   834413787\n",
       "5111          36      110     5.0   834412999\n",
       "5114          36      150     5.0   839928587\n",
       "5127          36      260     5.0   857131062\n",
       "...          ...      ...     ...         ...\n",
       "24998854  162533    60069     4.5  1280919889\n",
       "24998861  162533    67997     4.5  1280920712\n",
       "24998876  162533    78499     4.5  1281405901\n",
       "24998884  162533    81591     4.5  1297289876\n",
       "24998888  162533    88129     4.5  1329514139\n",
       "\n",
       "[1358326 rows x 4 columns]"
      ]
     },
     "execution_count": 26,
     "metadata": {},
     "output_type": "execute_result"
    }
   ],
   "source": [
    "similar_movies"
   ]
  },
  {
   "cell_type": "code",
   "execution_count": 27,
   "id": "537ef134-6ffc-479f-ab3b-9c4aa896a755",
   "metadata": {},
   "outputs": [],
   "source": [
    "rate = similar_movies[\"movieId\"].value_counts() / len(similar_users)"
   ]
  },
  {
   "cell_type": "code",
   "execution_count": 28,
   "id": "8721cfd2-3b29-4d68-9bd9-4fd81aa4c139",
   "metadata": {},
   "outputs": [
    {
     "data": {
      "text/plain": [
       "movieId\n",
       "1         1.000000\n",
       "318       0.445607\n",
       "260       0.403770\n",
       "356       0.370215\n",
       "296       0.367295\n",
       "            ...   \n",
       "128478    0.000053\n",
       "125125    0.000053\n",
       "119701    0.000053\n",
       "107563    0.000053\n",
       "7625      0.000053\n",
       "Name: count, Length: 19282, dtype: float64"
      ]
     },
     "execution_count": 28,
     "metadata": {},
     "output_type": "execute_result"
    }
   ],
   "source": [
    "rate"
   ]
  },
  {
   "cell_type": "code",
   "execution_count": 29,
   "id": "e0392d63-f8d6-4422-86f8-c20996ffbcc9",
   "metadata": {},
   "outputs": [],
   "source": [
    "rate_over_10 = rate[rate > .1] # Finding only the movies that more than 10% of similar users liked."
   ]
  },
  {
   "cell_type": "code",
   "execution_count": 30,
   "id": "ea2a91c9-e20b-4b1c-a112-0c0e57032b7a",
   "metadata": {},
   "outputs": [
    {
     "data": {
      "text/plain": [
       "movieId\n",
       "1        1.000000\n",
       "318      0.445607\n",
       "260      0.403770\n",
       "356      0.370215\n",
       "296      0.367295\n",
       "           ...   \n",
       "953      0.103053\n",
       "551      0.101195\n",
       "1222     0.100876\n",
       "745      0.100345\n",
       "48780    0.100186\n",
       "Name: count, Length: 113, dtype: float64"
      ]
     },
     "execution_count": 30,
     "metadata": {},
     "output_type": "execute_result"
    }
   ],
   "source": [
    "rate_over_10"
   ]
  },
  {
   "cell_type": "code",
   "execution_count": 31,
   "id": "358135ab-ae11-4954-a9fa-19ddf393c05e",
   "metadata": {},
   "outputs": [],
   "source": [
    "recommendations = movies[movies[\"movieId\"].isin(rate_over_10.index)]"
   ]
  },
  {
   "cell_type": "code",
   "execution_count": 32,
   "id": "beefb274-018f-45c6-98b8-f4f6d6d4bc1c",
   "metadata": {},
   "outputs": [
    {
     "data": {
      "text/html": [
       "<div>\n",
       "<style scoped>\n",
       "    .dataframe tbody tr th:only-of-type {\n",
       "        vertical-align: middle;\n",
       "    }\n",
       "\n",
       "    .dataframe tbody tr th {\n",
       "        vertical-align: top;\n",
       "    }\n",
       "\n",
       "    .dataframe thead th {\n",
       "        text-align: right;\n",
       "    }\n",
       "</style>\n",
       "<table border=\"1\" class=\"dataframe\">\n",
       "  <thead>\n",
       "    <tr style=\"text-align: right;\">\n",
       "      <th></th>\n",
       "      <th>movieId</th>\n",
       "      <th>title</th>\n",
       "      <th>genres</th>\n",
       "      <th>clean_title</th>\n",
       "    </tr>\n",
       "  </thead>\n",
       "  <tbody>\n",
       "    <tr>\n",
       "      <th>0</th>\n",
       "      <td>1</td>\n",
       "      <td>Toy Story (1995)</td>\n",
       "      <td>Adventure|Animation|Children|Comedy|Fantasy</td>\n",
       "      <td>Toy Story 1995</td>\n",
       "    </tr>\n",
       "    <tr>\n",
       "      <th>31</th>\n",
       "      <td>32</td>\n",
       "      <td>Twelve Monkeys (a.k.a. 12 Monkeys) (1995)</td>\n",
       "      <td>Mystery|Sci-Fi|Thriller</td>\n",
       "      <td>Twelve Monkeys aka 12 Monkeys 1995</td>\n",
       "    </tr>\n",
       "    <tr>\n",
       "      <th>33</th>\n",
       "      <td>34</td>\n",
       "      <td>Babe (1995)</td>\n",
       "      <td>Children|Drama</td>\n",
       "      <td>Babe 1995</td>\n",
       "    </tr>\n",
       "    <tr>\n",
       "      <th>46</th>\n",
       "      <td>47</td>\n",
       "      <td>Seven (a.k.a. Se7en) (1995)</td>\n",
       "      <td>Mystery|Thriller</td>\n",
       "      <td>Seven aka Se7en 1995</td>\n",
       "    </tr>\n",
       "    <tr>\n",
       "      <th>49</th>\n",
       "      <td>50</td>\n",
       "      <td>Usual Suspects, The (1995)</td>\n",
       "      <td>Crime|Mystery|Thriller</td>\n",
       "      <td>Usual Suspects The 1995</td>\n",
       "    </tr>\n",
       "    <tr>\n",
       "      <th>...</th>\n",
       "      <td>...</td>\n",
       "      <td>...</td>\n",
       "      <td>...</td>\n",
       "      <td>...</td>\n",
       "    </tr>\n",
       "    <tr>\n",
       "      <th>12324</th>\n",
       "      <td>59315</td>\n",
       "      <td>Iron Man (2008)</td>\n",
       "      <td>Action|Adventure|Sci-Fi</td>\n",
       "      <td>Iron Man 2008</td>\n",
       "    </tr>\n",
       "    <tr>\n",
       "      <th>12429</th>\n",
       "      <td>60069</td>\n",
       "      <td>WALL·E (2008)</td>\n",
       "      <td>Adventure|Animation|Children|Romance|Sci-Fi</td>\n",
       "      <td>WALLE 2008</td>\n",
       "    </tr>\n",
       "    <tr>\n",
       "      <th>13362</th>\n",
       "      <td>68954</td>\n",
       "      <td>Up (2009)</td>\n",
       "      <td>Adventure|Animation|Children|Drama</td>\n",
       "      <td>Up 2009</td>\n",
       "    </tr>\n",
       "    <tr>\n",
       "      <th>14813</th>\n",
       "      <td>78499</td>\n",
       "      <td>Toy Story 3 (2010)</td>\n",
       "      <td>Adventure|Animation|Children|Comedy|Fantasy|IMAX</td>\n",
       "      <td>Toy Story 3 2010</td>\n",
       "    </tr>\n",
       "    <tr>\n",
       "      <th>14937</th>\n",
       "      <td>79132</td>\n",
       "      <td>Inception (2010)</td>\n",
       "      <td>Action|Crime|Drama|Mystery|Sci-Fi|Thriller|IMAX</td>\n",
       "      <td>Inception 2010</td>\n",
       "    </tr>\n",
       "  </tbody>\n",
       "</table>\n",
       "<p>113 rows × 4 columns</p>\n",
       "</div>"
      ],
      "text/plain": [
       "       movieId                                      title  \\\n",
       "0            1                           Toy Story (1995)   \n",
       "31          32  Twelve Monkeys (a.k.a. 12 Monkeys) (1995)   \n",
       "33          34                                Babe (1995)   \n",
       "46          47                Seven (a.k.a. Se7en) (1995)   \n",
       "49          50                 Usual Suspects, The (1995)   \n",
       "...        ...                                        ...   \n",
       "12324    59315                            Iron Man (2008)   \n",
       "12429    60069                              WALL·E (2008)   \n",
       "13362    68954                                  Up (2009)   \n",
       "14813    78499                         Toy Story 3 (2010)   \n",
       "14937    79132                           Inception (2010)   \n",
       "\n",
       "                                                 genres  \\\n",
       "0           Adventure|Animation|Children|Comedy|Fantasy   \n",
       "31                              Mystery|Sci-Fi|Thriller   \n",
       "33                                       Children|Drama   \n",
       "46                                     Mystery|Thriller   \n",
       "49                               Crime|Mystery|Thriller   \n",
       "...                                                 ...   \n",
       "12324                           Action|Adventure|Sci-Fi   \n",
       "12429       Adventure|Animation|Children|Romance|Sci-Fi   \n",
       "13362                Adventure|Animation|Children|Drama   \n",
       "14813  Adventure|Animation|Children|Comedy|Fantasy|IMAX   \n",
       "14937   Action|Crime|Drama|Mystery|Sci-Fi|Thriller|IMAX   \n",
       "\n",
       "                              clean_title  \n",
       "0                          Toy Story 1995  \n",
       "31     Twelve Monkeys aka 12 Monkeys 1995  \n",
       "33                              Babe 1995  \n",
       "46                   Seven aka Se7en 1995  \n",
       "49                Usual Suspects The 1995  \n",
       "...                                   ...  \n",
       "12324                       Iron Man 2008  \n",
       "12429                          WALLE 2008  \n",
       "13362                             Up 2009  \n",
       "14813                    Toy Story 3 2010  \n",
       "14937                      Inception 2010  \n",
       "\n",
       "[113 rows x 4 columns]"
      ]
     },
     "execution_count": 32,
     "metadata": {},
     "output_type": "execute_result"
    }
   ],
   "source": [
    "recommendations"
   ]
  },
  {
   "cell_type": "markdown",
   "id": "6f2907fe-82fb-4cfe-bd74-1a7bc8f9d4a7",
   "metadata": {},
   "source": [
    "### Determining How Much Users Like Movies"
   ]
  },
  {
   "cell_type": "code",
   "execution_count": 33,
   "id": "59b3b451-a7a3-4416-b53d-f6a03308bb46",
   "metadata": {},
   "outputs": [],
   "source": [
    "# Finding all users who rated a movie highly that is in our set of recommended movies\n",
    "users_highly_liked = ratings[(ratings[\"rating\"] > 4) & (ratings[\"movieId\"].isin(recommendations[\"movieId\"]))]"
   ]
  },
  {
   "cell_type": "code",
   "execution_count": 34,
   "id": "3dbfd552-8fe7-44d0-96d4-ba05e669b927",
   "metadata": {},
   "outputs": [
    {
     "data": {
      "text/html": [
       "<div>\n",
       "<style scoped>\n",
       "    .dataframe tbody tr th:only-of-type {\n",
       "        vertical-align: middle;\n",
       "    }\n",
       "\n",
       "    .dataframe tbody tr th {\n",
       "        vertical-align: top;\n",
       "    }\n",
       "\n",
       "    .dataframe thead th {\n",
       "        text-align: right;\n",
       "    }\n",
       "</style>\n",
       "<table border=\"1\" class=\"dataframe\">\n",
       "  <thead>\n",
       "    <tr style=\"text-align: right;\">\n",
       "      <th></th>\n",
       "      <th>userId</th>\n",
       "      <th>movieId</th>\n",
       "      <th>rating</th>\n",
       "      <th>timestamp</th>\n",
       "    </tr>\n",
       "  </thead>\n",
       "  <tbody>\n",
       "    <tr>\n",
       "      <th>0</th>\n",
       "      <td>1</td>\n",
       "      <td>296</td>\n",
       "      <td>5.0</td>\n",
       "      <td>1147880044</td>\n",
       "    </tr>\n",
       "    <tr>\n",
       "      <th>29</th>\n",
       "      <td>1</td>\n",
       "      <td>4973</td>\n",
       "      <td>4.5</td>\n",
       "      <td>1147869080</td>\n",
       "    </tr>\n",
       "    <tr>\n",
       "      <th>48</th>\n",
       "      <td>1</td>\n",
       "      <td>7361</td>\n",
       "      <td>5.0</td>\n",
       "      <td>1147880055</td>\n",
       "    </tr>\n",
       "    <tr>\n",
       "      <th>72</th>\n",
       "      <td>2</td>\n",
       "      <td>110</td>\n",
       "      <td>5.0</td>\n",
       "      <td>1141416589</td>\n",
       "    </tr>\n",
       "    <tr>\n",
       "      <th>76</th>\n",
       "      <td>2</td>\n",
       "      <td>260</td>\n",
       "      <td>5.0</td>\n",
       "      <td>1141417172</td>\n",
       "    </tr>\n",
       "    <tr>\n",
       "      <th>...</th>\n",
       "      <td>...</td>\n",
       "      <td>...</td>\n",
       "      <td>...</td>\n",
       "      <td>...</td>\n",
       "    </tr>\n",
       "    <tr>\n",
       "      <th>25000062</th>\n",
       "      <td>162541</td>\n",
       "      <td>5618</td>\n",
       "      <td>4.5</td>\n",
       "      <td>1240953299</td>\n",
       "    </tr>\n",
       "    <tr>\n",
       "      <th>25000065</th>\n",
       "      <td>162541</td>\n",
       "      <td>5952</td>\n",
       "      <td>5.0</td>\n",
       "      <td>1240952617</td>\n",
       "    </tr>\n",
       "    <tr>\n",
       "      <th>25000078</th>\n",
       "      <td>162541</td>\n",
       "      <td>7153</td>\n",
       "      <td>5.0</td>\n",
       "      <td>1240952613</td>\n",
       "    </tr>\n",
       "    <tr>\n",
       "      <th>25000081</th>\n",
       "      <td>162541</td>\n",
       "      <td>7361</td>\n",
       "      <td>4.5</td>\n",
       "      <td>1240953484</td>\n",
       "    </tr>\n",
       "    <tr>\n",
       "      <th>25000090</th>\n",
       "      <td>162541</td>\n",
       "      <td>50872</td>\n",
       "      <td>4.5</td>\n",
       "      <td>1240953372</td>\n",
       "    </tr>\n",
       "  </tbody>\n",
       "</table>\n",
       "<p>1727573 rows × 4 columns</p>\n",
       "</div>"
      ],
      "text/plain": [
       "          userId  movieId  rating   timestamp\n",
       "0              1      296     5.0  1147880044\n",
       "29             1     4973     4.5  1147869080\n",
       "48             1     7361     5.0  1147880055\n",
       "72             2      110     5.0  1141416589\n",
       "76             2      260     5.0  1141417172\n",
       "...          ...      ...     ...         ...\n",
       "25000062  162541     5618     4.5  1240953299\n",
       "25000065  162541     5952     5.0  1240952617\n",
       "25000078  162541     7153     5.0  1240952613\n",
       "25000081  162541     7361     4.5  1240953484\n",
       "25000090  162541    50872     4.5  1240953372\n",
       "\n",
       "[1727573 rows x 4 columns]"
      ]
     },
     "execution_count": 34,
     "metadata": {},
     "output_type": "execute_result"
    }
   ],
   "source": [
    "users_highly_liked"
   ]
  },
  {
   "cell_type": "code",
   "execution_count": 35,
   "id": "4610709b-72ca-4ba4-8e96-b3629e539f1c",
   "metadata": {
    "scrolled": true
   },
   "outputs": [],
   "source": [
    "### Finding what percentage of all users recommend each of these movies\n",
    "movies_rec_percentage = users_highly_liked.groupby(\"movieId\").count()[\"userId\"] / len(ratings[\"userId\"].unique())"
   ]
  },
  {
   "cell_type": "code",
   "execution_count": 36,
   "id": "17f6751b-d6fa-49c3-bfce-d55597fb5684",
   "metadata": {},
   "outputs": [
    {
     "data": {
      "text/plain": [
       "movieId\n",
       "1        0.115878\n",
       "32       0.093176\n",
       "34       0.048523\n",
       "47       0.134218\n",
       "50       0.186285\n",
       "           ...   \n",
       "59315    0.050418\n",
       "60069    0.070893\n",
       "68954    0.060336\n",
       "78499    0.032638\n",
       "79132    0.122062\n",
       "Name: userId, Length: 113, dtype: float64"
      ]
     },
     "execution_count": 36,
     "metadata": {},
     "output_type": "execute_result"
    }
   ],
   "source": [
    "movies_rec_percentage"
   ]
  },
  {
   "cell_type": "markdown",
   "id": "58fd62e8-f80a-4c88-b9b1-6ad3cc8e39d0",
   "metadata": {},
   "source": [
    "### Creating a Recommendation Score"
   ]
  },
  {
   "cell_type": "code",
   "execution_count": 44,
   "id": "4222e95c-29bf-4525-b943-ccf2cbc8f429",
   "metadata": {},
   "outputs": [],
   "source": [
    "recommendation_percentages = pd.concat([movies_rec_percentage, rate_over_10], axis=1) # Concatenating similar user recommendations and all user recommendations."
   ]
  },
  {
   "cell_type": "code",
   "execution_count": 49,
   "id": "fbf66e35-8142-435e-b815-cc9a9e053646",
   "metadata": {},
   "outputs": [],
   "source": [
    "recommendation_percentages.columns = [\"similar\", \"all\"]"
   ]
  },
  {
   "cell_type": "code",
   "execution_count": 50,
   "id": "b6fb2082-e02c-4ae4-9ac0-6fff9a84c4ba",
   "metadata": {},
   "outputs": [
    {
     "data": {
      "text/html": [
       "<div>\n",
       "<style scoped>\n",
       "    .dataframe tbody tr th:only-of-type {\n",
       "        vertical-align: middle;\n",
       "    }\n",
       "\n",
       "    .dataframe tbody tr th {\n",
       "        vertical-align: top;\n",
       "    }\n",
       "\n",
       "    .dataframe thead th {\n",
       "        text-align: right;\n",
       "    }\n",
       "</style>\n",
       "<table border=\"1\" class=\"dataframe\">\n",
       "  <thead>\n",
       "    <tr style=\"text-align: right;\">\n",
       "      <th></th>\n",
       "      <th>similar</th>\n",
       "      <th>all</th>\n",
       "    </tr>\n",
       "    <tr>\n",
       "      <th>movieId</th>\n",
       "      <th></th>\n",
       "      <th></th>\n",
       "    </tr>\n",
       "  </thead>\n",
       "  <tbody>\n",
       "    <tr>\n",
       "      <th>1</th>\n",
       "      <td>0.115878</td>\n",
       "      <td>1.000000</td>\n",
       "    </tr>\n",
       "    <tr>\n",
       "      <th>32</th>\n",
       "      <td>0.093176</td>\n",
       "      <td>0.160711</td>\n",
       "    </tr>\n",
       "    <tr>\n",
       "      <th>34</th>\n",
       "      <td>0.048523</td>\n",
       "      <td>0.130555</td>\n",
       "    </tr>\n",
       "    <tr>\n",
       "      <th>47</th>\n",
       "      <td>0.134218</td>\n",
       "      <td>0.225909</td>\n",
       "    </tr>\n",
       "    <tr>\n",
       "      <th>50</th>\n",
       "      <td>0.186285</td>\n",
       "      <td>0.275604</td>\n",
       "    </tr>\n",
       "    <tr>\n",
       "      <th>...</th>\n",
       "      <td>...</td>\n",
       "      <td>...</td>\n",
       "    </tr>\n",
       "    <tr>\n",
       "      <th>59315</th>\n",
       "      <td>0.050418</td>\n",
       "      <td>0.104593</td>\n",
       "    </tr>\n",
       "    <tr>\n",
       "      <th>60069</th>\n",
       "      <td>0.070893</td>\n",
       "      <td>0.170640</td>\n",
       "    </tr>\n",
       "    <tr>\n",
       "      <th>68954</th>\n",
       "      <td>0.060336</td>\n",
       "      <td>0.159172</td>\n",
       "    </tr>\n",
       "    <tr>\n",
       "      <th>78499</th>\n",
       "      <td>0.032638</td>\n",
       "      <td>0.152960</td>\n",
       "    </tr>\n",
       "    <tr>\n",
       "      <th>79132</th>\n",
       "      <td>0.122062</td>\n",
       "      <td>0.166817</td>\n",
       "    </tr>\n",
       "  </tbody>\n",
       "</table>\n",
       "<p>113 rows × 2 columns</p>\n",
       "</div>"
      ],
      "text/plain": [
       "          similar       all\n",
       "movieId                    \n",
       "1        0.115878  1.000000\n",
       "32       0.093176  0.160711\n",
       "34       0.048523  0.130555\n",
       "47       0.134218  0.225909\n",
       "50       0.186285  0.275604\n",
       "...           ...       ...\n",
       "59315    0.050418  0.104593\n",
       "60069    0.070893  0.170640\n",
       "68954    0.060336  0.159172\n",
       "78499    0.032638  0.152960\n",
       "79132    0.122062  0.166817\n",
       "\n",
       "[113 rows x 2 columns]"
      ]
     },
     "execution_count": 50,
     "metadata": {},
     "output_type": "execute_result"
    }
   ],
   "source": [
    "recommendation_percentages"
   ]
  },
  {
   "cell_type": "code",
   "execution_count": 51,
   "id": "a50c866b-0784-402d-8b3a-20827ba439c9",
   "metadata": {},
   "outputs": [],
   "source": [
    "recommendation_percentages[\"score\"] = recommendation_percentages[\"similar\"] / recommendation_percentages[\"all\"]"
   ]
  },
  {
   "cell_type": "code",
   "execution_count": 52,
   "id": "2a70ed18-8cae-43d8-a690-b5daa18ddb62",
   "metadata": {},
   "outputs": [
    {
     "data": {
      "text/html": [
       "<div>\n",
       "<style scoped>\n",
       "    .dataframe tbody tr th:only-of-type {\n",
       "        vertical-align: middle;\n",
       "    }\n",
       "\n",
       "    .dataframe tbody tr th {\n",
       "        vertical-align: top;\n",
       "    }\n",
       "\n",
       "    .dataframe thead th {\n",
       "        text-align: right;\n",
       "    }\n",
       "</style>\n",
       "<table border=\"1\" class=\"dataframe\">\n",
       "  <thead>\n",
       "    <tr style=\"text-align: right;\">\n",
       "      <th></th>\n",
       "      <th>similar</th>\n",
       "      <th>all</th>\n",
       "      <th>score</th>\n",
       "    </tr>\n",
       "    <tr>\n",
       "      <th>movieId</th>\n",
       "      <th></th>\n",
       "      <th></th>\n",
       "      <th></th>\n",
       "    </tr>\n",
       "  </thead>\n",
       "  <tbody>\n",
       "    <tr>\n",
       "      <th>1</th>\n",
       "      <td>0.115878</td>\n",
       "      <td>1.000000</td>\n",
       "      <td>0.115878</td>\n",
       "    </tr>\n",
       "    <tr>\n",
       "      <th>32</th>\n",
       "      <td>0.093176</td>\n",
       "      <td>0.160711</td>\n",
       "      <td>0.579775</td>\n",
       "    </tr>\n",
       "    <tr>\n",
       "      <th>34</th>\n",
       "      <td>0.048523</td>\n",
       "      <td>0.130555</td>\n",
       "      <td>0.371669</td>\n",
       "    </tr>\n",
       "    <tr>\n",
       "      <th>47</th>\n",
       "      <td>0.134218</td>\n",
       "      <td>0.225909</td>\n",
       "      <td>0.594126</td>\n",
       "    </tr>\n",
       "    <tr>\n",
       "      <th>50</th>\n",
       "      <td>0.186285</td>\n",
       "      <td>0.275604</td>\n",
       "      <td>0.675917</td>\n",
       "    </tr>\n",
       "    <tr>\n",
       "      <th>...</th>\n",
       "      <td>...</td>\n",
       "      <td>...</td>\n",
       "      <td>...</td>\n",
       "    </tr>\n",
       "    <tr>\n",
       "      <th>59315</th>\n",
       "      <td>0.050418</td>\n",
       "      <td>0.104593</td>\n",
       "      <td>0.482043</td>\n",
       "    </tr>\n",
       "    <tr>\n",
       "      <th>60069</th>\n",
       "      <td>0.070893</td>\n",
       "      <td>0.170640</td>\n",
       "      <td>0.415453</td>\n",
       "    </tr>\n",
       "    <tr>\n",
       "      <th>68954</th>\n",
       "      <td>0.060336</td>\n",
       "      <td>0.159172</td>\n",
       "      <td>0.379059</td>\n",
       "    </tr>\n",
       "    <tr>\n",
       "      <th>78499</th>\n",
       "      <td>0.032638</td>\n",
       "      <td>0.152960</td>\n",
       "      <td>0.213376</td>\n",
       "    </tr>\n",
       "    <tr>\n",
       "      <th>79132</th>\n",
       "      <td>0.122062</td>\n",
       "      <td>0.166817</td>\n",
       "      <td>0.731709</td>\n",
       "    </tr>\n",
       "  </tbody>\n",
       "</table>\n",
       "<p>113 rows × 3 columns</p>\n",
       "</div>"
      ],
      "text/plain": [
       "          similar       all     score\n",
       "movieId                              \n",
       "1        0.115878  1.000000  0.115878\n",
       "32       0.093176  0.160711  0.579775\n",
       "34       0.048523  0.130555  0.371669\n",
       "47       0.134218  0.225909  0.594126\n",
       "50       0.186285  0.275604  0.675917\n",
       "...           ...       ...       ...\n",
       "59315    0.050418  0.104593  0.482043\n",
       "60069    0.070893  0.170640  0.415453\n",
       "68954    0.060336  0.159172  0.379059\n",
       "78499    0.032638  0.152960  0.213376\n",
       "79132    0.122062  0.166817  0.731709\n",
       "\n",
       "[113 rows x 3 columns]"
      ]
     },
     "execution_count": 52,
     "metadata": {},
     "output_type": "execute_result"
    }
   ],
   "source": [
    "recommendation_percentages"
   ]
  },
  {
   "cell_type": "code",
   "execution_count": 58,
   "id": "3bd312fa-011a-460f-9627-385c58b9ce0c",
   "metadata": {},
   "outputs": [],
   "source": [
    "top10_recommendations = recommendation_percentages.sort_values(\"score\", ascending=False).iloc[:10, :]"
   ]
  },
  {
   "cell_type": "code",
   "execution_count": 59,
   "id": "ba1e9015-34a3-4466-bac4-0e6d8aa24fb6",
   "metadata": {},
   "outputs": [
    {
     "data": {
      "text/html": [
       "<div>\n",
       "<style scoped>\n",
       "    .dataframe tbody tr th:only-of-type {\n",
       "        vertical-align: middle;\n",
       "    }\n",
       "\n",
       "    .dataframe tbody tr th {\n",
       "        vertical-align: top;\n",
       "    }\n",
       "\n",
       "    .dataframe thead th {\n",
       "        text-align: right;\n",
       "    }\n",
       "</style>\n",
       "<table border=\"1\" class=\"dataframe\">\n",
       "  <thead>\n",
       "    <tr style=\"text-align: right;\">\n",
       "      <th></th>\n",
       "      <th>similar</th>\n",
       "      <th>all</th>\n",
       "      <th>score</th>\n",
       "    </tr>\n",
       "    <tr>\n",
       "      <th>movieId</th>\n",
       "      <th></th>\n",
       "      <th></th>\n",
       "      <th></th>\n",
       "    </tr>\n",
       "  </thead>\n",
       "  <tbody>\n",
       "    <tr>\n",
       "      <th>2959</th>\n",
       "      <td>0.201340</td>\n",
       "      <td>0.262649</td>\n",
       "      <td>0.766573</td>\n",
       "    </tr>\n",
       "    <tr>\n",
       "      <th>4973</th>\n",
       "      <td>0.104429</td>\n",
       "      <td>0.142501</td>\n",
       "      <td>0.732832</td>\n",
       "    </tr>\n",
       "    <tr>\n",
       "      <th>79132</th>\n",
       "      <td>0.122062</td>\n",
       "      <td>0.166817</td>\n",
       "      <td>0.731709</td>\n",
       "    </tr>\n",
       "    <tr>\n",
       "      <th>296</th>\n",
       "      <td>0.264475</td>\n",
       "      <td>0.367295</td>\n",
       "      <td>0.720061</td>\n",
       "    </tr>\n",
       "    <tr>\n",
       "      <th>2858</th>\n",
       "      <td>0.155739</td>\n",
       "      <td>0.216724</td>\n",
       "      <td>0.718605</td>\n",
       "    </tr>\n",
       "    <tr>\n",
       "      <th>858</th>\n",
       "      <td>0.195151</td>\n",
       "      <td>0.273268</td>\n",
       "      <td>0.714137</td>\n",
       "    </tr>\n",
       "    <tr>\n",
       "      <th>318</th>\n",
       "      <td>0.317938</td>\n",
       "      <td>0.445607</td>\n",
       "      <td>0.713495</td>\n",
       "    </tr>\n",
       "    <tr>\n",
       "      <th>2329</th>\n",
       "      <td>0.088002</td>\n",
       "      <td>0.123547</td>\n",
       "      <td>0.712301</td>\n",
       "    </tr>\n",
       "    <tr>\n",
       "      <th>1221</th>\n",
       "      <td>0.118118</td>\n",
       "      <td>0.170746</td>\n",
       "      <td>0.691776</td>\n",
       "    </tr>\n",
       "    <tr>\n",
       "      <th>1208</th>\n",
       "      <td>0.076658</td>\n",
       "      <td>0.112132</td>\n",
       "      <td>0.683639</td>\n",
       "    </tr>\n",
       "  </tbody>\n",
       "</table>\n",
       "</div>"
      ],
      "text/plain": [
       "          similar       all     score\n",
       "movieId                              \n",
       "2959     0.201340  0.262649  0.766573\n",
       "4973     0.104429  0.142501  0.732832\n",
       "79132    0.122062  0.166817  0.731709\n",
       "296      0.264475  0.367295  0.720061\n",
       "2858     0.155739  0.216724  0.718605\n",
       "858      0.195151  0.273268  0.714137\n",
       "318      0.317938  0.445607  0.713495\n",
       "2329     0.088002  0.123547  0.712301\n",
       "1221     0.118118  0.170746  0.691776\n",
       "1208     0.076658  0.112132  0.683639"
      ]
     },
     "execution_count": 59,
     "metadata": {},
     "output_type": "execute_result"
    }
   ],
   "source": [
    "top10_recommendations"
   ]
  },
  {
   "cell_type": "code",
   "execution_count": 61,
   "id": "2aff26cb-5caa-4d6c-a7cf-98537aec08e8",
   "metadata": {},
   "outputs": [],
   "source": [
    "top10_recommendations = pd.merge(top10_recommendations, movies, on=\"movieId\", how=\"left\")"
   ]
  },
  {
   "cell_type": "code",
   "execution_count": 62,
   "id": "13924921-471e-4903-bfc7-519f9c668df9",
   "metadata": {},
   "outputs": [
    {
     "data": {
      "text/html": [
       "<div>\n",
       "<style scoped>\n",
       "    .dataframe tbody tr th:only-of-type {\n",
       "        vertical-align: middle;\n",
       "    }\n",
       "\n",
       "    .dataframe tbody tr th {\n",
       "        vertical-align: top;\n",
       "    }\n",
       "\n",
       "    .dataframe thead th {\n",
       "        text-align: right;\n",
       "    }\n",
       "</style>\n",
       "<table border=\"1\" class=\"dataframe\">\n",
       "  <thead>\n",
       "    <tr style=\"text-align: right;\">\n",
       "      <th></th>\n",
       "      <th>movieId</th>\n",
       "      <th>similar</th>\n",
       "      <th>all</th>\n",
       "      <th>score</th>\n",
       "      <th>title</th>\n",
       "      <th>genres</th>\n",
       "      <th>clean_title</th>\n",
       "    </tr>\n",
       "  </thead>\n",
       "  <tbody>\n",
       "    <tr>\n",
       "      <th>0</th>\n",
       "      <td>2959</td>\n",
       "      <td>0.201340</td>\n",
       "      <td>0.262649</td>\n",
       "      <td>0.766573</td>\n",
       "      <td>Fight Club (1999)</td>\n",
       "      <td>Action|Crime|Drama|Thriller</td>\n",
       "      <td>Fight Club 1999</td>\n",
       "    </tr>\n",
       "    <tr>\n",
       "      <th>1</th>\n",
       "      <td>4973</td>\n",
       "      <td>0.104429</td>\n",
       "      <td>0.142501</td>\n",
       "      <td>0.732832</td>\n",
       "      <td>Amelie (Fabuleux destin d'Amélie Poulain, Le) ...</td>\n",
       "      <td>Comedy|Romance</td>\n",
       "      <td>Amelie Fabuleux destin dAmlie Poulain Le 2001</td>\n",
       "    </tr>\n",
       "    <tr>\n",
       "      <th>2</th>\n",
       "      <td>79132</td>\n",
       "      <td>0.122062</td>\n",
       "      <td>0.166817</td>\n",
       "      <td>0.731709</td>\n",
       "      <td>Inception (2010)</td>\n",
       "      <td>Action|Crime|Drama|Mystery|Sci-Fi|Thriller|IMAX</td>\n",
       "      <td>Inception 2010</td>\n",
       "    </tr>\n",
       "    <tr>\n",
       "      <th>3</th>\n",
       "      <td>296</td>\n",
       "      <td>0.264475</td>\n",
       "      <td>0.367295</td>\n",
       "      <td>0.720061</td>\n",
       "      <td>Pulp Fiction (1994)</td>\n",
       "      <td>Comedy|Crime|Drama|Thriller</td>\n",
       "      <td>Pulp Fiction 1994</td>\n",
       "    </tr>\n",
       "    <tr>\n",
       "      <th>4</th>\n",
       "      <td>2858</td>\n",
       "      <td>0.155739</td>\n",
       "      <td>0.216724</td>\n",
       "      <td>0.718605</td>\n",
       "      <td>American Beauty (1999)</td>\n",
       "      <td>Drama|Romance</td>\n",
       "      <td>American Beauty 1999</td>\n",
       "    </tr>\n",
       "    <tr>\n",
       "      <th>5</th>\n",
       "      <td>858</td>\n",
       "      <td>0.195151</td>\n",
       "      <td>0.273268</td>\n",
       "      <td>0.714137</td>\n",
       "      <td>Godfather, The (1972)</td>\n",
       "      <td>Crime|Drama</td>\n",
       "      <td>Godfather The 1972</td>\n",
       "    </tr>\n",
       "    <tr>\n",
       "      <th>6</th>\n",
       "      <td>318</td>\n",
       "      <td>0.317938</td>\n",
       "      <td>0.445607</td>\n",
       "      <td>0.713495</td>\n",
       "      <td>Shawshank Redemption, The (1994)</td>\n",
       "      <td>Crime|Drama</td>\n",
       "      <td>Shawshank Redemption The 1994</td>\n",
       "    </tr>\n",
       "    <tr>\n",
       "      <th>7</th>\n",
       "      <td>2329</td>\n",
       "      <td>0.088002</td>\n",
       "      <td>0.123547</td>\n",
       "      <td>0.712301</td>\n",
       "      <td>American History X (1998)</td>\n",
       "      <td>Crime|Drama</td>\n",
       "      <td>American History X 1998</td>\n",
       "    </tr>\n",
       "    <tr>\n",
       "      <th>8</th>\n",
       "      <td>1221</td>\n",
       "      <td>0.118118</td>\n",
       "      <td>0.170746</td>\n",
       "      <td>0.691776</td>\n",
       "      <td>Godfather: Part II, The (1974)</td>\n",
       "      <td>Crime|Drama</td>\n",
       "      <td>Godfather Part II The 1974</td>\n",
       "    </tr>\n",
       "    <tr>\n",
       "      <th>9</th>\n",
       "      <td>1208</td>\n",
       "      <td>0.076658</td>\n",
       "      <td>0.112132</td>\n",
       "      <td>0.683639</td>\n",
       "      <td>Apocalypse Now (1979)</td>\n",
       "      <td>Action|Drama|War</td>\n",
       "      <td>Apocalypse Now 1979</td>\n",
       "    </tr>\n",
       "  </tbody>\n",
       "</table>\n",
       "</div>"
      ],
      "text/plain": [
       "   movieId   similar       all     score  \\\n",
       "0     2959  0.201340  0.262649  0.766573   \n",
       "1     4973  0.104429  0.142501  0.732832   \n",
       "2    79132  0.122062  0.166817  0.731709   \n",
       "3      296  0.264475  0.367295  0.720061   \n",
       "4     2858  0.155739  0.216724  0.718605   \n",
       "5      858  0.195151  0.273268  0.714137   \n",
       "6      318  0.317938  0.445607  0.713495   \n",
       "7     2329  0.088002  0.123547  0.712301   \n",
       "8     1221  0.118118  0.170746  0.691776   \n",
       "9     1208  0.076658  0.112132  0.683639   \n",
       "\n",
       "                                               title  \\\n",
       "0                                  Fight Club (1999)   \n",
       "1  Amelie (Fabuleux destin d'Amélie Poulain, Le) ...   \n",
       "2                                   Inception (2010)   \n",
       "3                                Pulp Fiction (1994)   \n",
       "4                             American Beauty (1999)   \n",
       "5                              Godfather, The (1972)   \n",
       "6                   Shawshank Redemption, The (1994)   \n",
       "7                          American History X (1998)   \n",
       "8                     Godfather: Part II, The (1974)   \n",
       "9                              Apocalypse Now (1979)   \n",
       "\n",
       "                                            genres  \\\n",
       "0                      Action|Crime|Drama|Thriller   \n",
       "1                                   Comedy|Romance   \n",
       "2  Action|Crime|Drama|Mystery|Sci-Fi|Thriller|IMAX   \n",
       "3                      Comedy|Crime|Drama|Thriller   \n",
       "4                                    Drama|Romance   \n",
       "5                                      Crime|Drama   \n",
       "6                                      Crime|Drama   \n",
       "7                                      Crime|Drama   \n",
       "8                                      Crime|Drama   \n",
       "9                                 Action|Drama|War   \n",
       "\n",
       "                                     clean_title  \n",
       "0                                Fight Club 1999  \n",
       "1  Amelie Fabuleux destin dAmlie Poulain Le 2001  \n",
       "2                                 Inception 2010  \n",
       "3                              Pulp Fiction 1994  \n",
       "4                           American Beauty 1999  \n",
       "5                             Godfather The 1972  \n",
       "6                  Shawshank Redemption The 1994  \n",
       "7                        American History X 1998  \n",
       "8                     Godfather Part II The 1974  \n",
       "9                            Apocalypse Now 1979  "
      ]
     },
     "execution_count": 62,
     "metadata": {},
     "output_type": "execute_result"
    }
   ],
   "source": [
    "top10_recommendations"
   ]
  },
  {
   "cell_type": "code",
   "execution_count": null,
   "id": "8fbb2f65-3255-4a12-ba08-931583c96615",
   "metadata": {},
   "outputs": [],
   "source": []
  }
 ],
 "metadata": {
  "kernelspec": {
   "display_name": "Portfolio Project - Movie Recommendation System",
   "language": "python",
   "name": "movie_recommendation_system"
  },
  "language_info": {
   "codemirror_mode": {
    "name": "ipython",
    "version": 3
   },
   "file_extension": ".py",
   "mimetype": "text/x-python",
   "name": "python",
   "nbconvert_exporter": "python",
   "pygments_lexer": "ipython3",
   "version": "3.12.3"
  }
 },
 "nbformat": 4,
 "nbformat_minor": 5
}
