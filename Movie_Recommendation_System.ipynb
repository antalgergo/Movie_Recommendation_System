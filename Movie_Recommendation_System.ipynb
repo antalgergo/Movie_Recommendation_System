{
 "cells": [
  {
   "cell_type": "markdown",
   "id": "e8f37cd8-d903-4ab0-a245-a58b217c4d90",
   "metadata": {},
   "source": [
    "# Portfolio Project - Build a Movie Recommendation System in Python"
   ]
  },
  {
   "cell_type": "markdown",
   "id": "8ff7ec10-6a4a-4e2e-9058-2fc917142abc",
   "metadata": {},
   "source": [
    "### Reading in Our Movie Data in Pandas"
   ]
  },
  {
   "cell_type": "code",
   "execution_count": 1,
   "id": "6f849475-2daa-403e-b2c2-b457050918cd",
   "metadata": {},
   "outputs": [],
   "source": [
    "import pandas as pd"
   ]
  },
  {
   "cell_type": "code",
   "execution_count": 2,
   "id": "036c96fd-4d2a-43c9-972b-ff4d100de9e9",
   "metadata": {},
   "outputs": [],
   "source": [
    "movies = pd.read_csv(\"movies.csv\")"
   ]
  },
  {
   "cell_type": "markdown",
   "id": "8c2ddb7b-c390-4b6c-824f-014c2931fc41",
   "metadata": {},
   "source": [
    "You can download the .csv file from [here](https://files.grouplens.org/datasets/movielens/ml-25m.zip)"
   ]
  },
  {
   "cell_type": "code",
   "execution_count": 3,
   "id": "bfc6eb54-9143-4e1f-a5f0-35f6b670b946",
   "metadata": {},
   "outputs": [
    {
     "data": {
      "text/html": [
       "<div>\n",
       "<style scoped>\n",
       "    .dataframe tbody tr th:only-of-type {\n",
       "        vertical-align: middle;\n",
       "    }\n",
       "\n",
       "    .dataframe tbody tr th {\n",
       "        vertical-align: top;\n",
       "    }\n",
       "\n",
       "    .dataframe thead th {\n",
       "        text-align: right;\n",
       "    }\n",
       "</style>\n",
       "<table border=\"1\" class=\"dataframe\">\n",
       "  <thead>\n",
       "    <tr style=\"text-align: right;\">\n",
       "      <th></th>\n",
       "      <th>movieId</th>\n",
       "      <th>title</th>\n",
       "      <th>genres</th>\n",
       "    </tr>\n",
       "  </thead>\n",
       "  <tbody>\n",
       "    <tr>\n",
       "      <th>0</th>\n",
       "      <td>1</td>\n",
       "      <td>Toy Story (1995)</td>\n",
       "      <td>Adventure|Animation|Children|Comedy|Fantasy</td>\n",
       "    </tr>\n",
       "    <tr>\n",
       "      <th>1</th>\n",
       "      <td>2</td>\n",
       "      <td>Jumanji (1995)</td>\n",
       "      <td>Adventure|Children|Fantasy</td>\n",
       "    </tr>\n",
       "    <tr>\n",
       "      <th>2</th>\n",
       "      <td>3</td>\n",
       "      <td>Grumpier Old Men (1995)</td>\n",
       "      <td>Comedy|Romance</td>\n",
       "    </tr>\n",
       "    <tr>\n",
       "      <th>3</th>\n",
       "      <td>4</td>\n",
       "      <td>Waiting to Exhale (1995)</td>\n",
       "      <td>Comedy|Drama|Romance</td>\n",
       "    </tr>\n",
       "    <tr>\n",
       "      <th>4</th>\n",
       "      <td>5</td>\n",
       "      <td>Father of the Bride Part II (1995)</td>\n",
       "      <td>Comedy</td>\n",
       "    </tr>\n",
       "  </tbody>\n",
       "</table>\n",
       "</div>"
      ],
      "text/plain": [
       "   movieId                               title  \\\n",
       "0        1                    Toy Story (1995)   \n",
       "1        2                      Jumanji (1995)   \n",
       "2        3             Grumpier Old Men (1995)   \n",
       "3        4            Waiting to Exhale (1995)   \n",
       "4        5  Father of the Bride Part II (1995)   \n",
       "\n",
       "                                        genres  \n",
       "0  Adventure|Animation|Children|Comedy|Fantasy  \n",
       "1                   Adventure|Children|Fantasy  \n",
       "2                               Comedy|Romance  \n",
       "3                         Comedy|Drama|Romance  \n",
       "4                                       Comedy  "
      ]
     },
     "execution_count": 3,
     "metadata": {},
     "output_type": "execute_result"
    }
   ],
   "source": [
    "movies.head()"
   ]
  },
  {
   "cell_type": "markdown",
   "id": "4e376a29-a6e4-48c2-9de7-bc3624fa8cec",
   "metadata": {},
   "source": [
    "### Cleaning Movie Titles Using Regex"
   ]
  },
  {
   "cell_type": "code",
   "execution_count": 4,
   "id": "fbc9d810-876c-4698-9719-325db9ff24d7",
   "metadata": {},
   "outputs": [],
   "source": [
    "import re"
   ]
  },
  {
   "cell_type": "code",
   "execution_count": 5,
   "id": "ed88012d-a726-4966-b888-d9fd593e76d7",
   "metadata": {},
   "outputs": [],
   "source": [
    "# This function takes in a title and returns the cleaned title. It should remove any character that isn't a letter, digit, or a space.\n",
    "def cleaning_title(title):\n",
    "\n",
    "    return re.sub(r\"[^a-zA-Z0-9\\s]*\", \"\", title)"
   ]
  },
  {
   "cell_type": "code",
   "execution_count": 6,
   "id": "1532c3a6-5021-42c7-978c-1c88f1b930d5",
   "metadata": {},
   "outputs": [],
   "source": [
    "movies[\"clean_title\"] = movies[\"title\"].apply(cleaning_title)"
   ]
  },
  {
   "cell_type": "code",
   "execution_count": 7,
   "id": "de217acd-b9d2-45cb-b88e-36d589aaec73",
   "metadata": {},
   "outputs": [
    {
     "data": {
      "text/html": [
       "<div>\n",
       "<style scoped>\n",
       "    .dataframe tbody tr th:only-of-type {\n",
       "        vertical-align: middle;\n",
       "    }\n",
       "\n",
       "    .dataframe tbody tr th {\n",
       "        vertical-align: top;\n",
       "    }\n",
       "\n",
       "    .dataframe thead th {\n",
       "        text-align: right;\n",
       "    }\n",
       "</style>\n",
       "<table border=\"1\" class=\"dataframe\">\n",
       "  <thead>\n",
       "    <tr style=\"text-align: right;\">\n",
       "      <th></th>\n",
       "      <th>movieId</th>\n",
       "      <th>title</th>\n",
       "      <th>genres</th>\n",
       "      <th>clean_title</th>\n",
       "    </tr>\n",
       "  </thead>\n",
       "  <tbody>\n",
       "    <tr>\n",
       "      <th>0</th>\n",
       "      <td>1</td>\n",
       "      <td>Toy Story (1995)</td>\n",
       "      <td>Adventure|Animation|Children|Comedy|Fantasy</td>\n",
       "      <td>Toy Story 1995</td>\n",
       "    </tr>\n",
       "    <tr>\n",
       "      <th>1</th>\n",
       "      <td>2</td>\n",
       "      <td>Jumanji (1995)</td>\n",
       "      <td>Adventure|Children|Fantasy</td>\n",
       "      <td>Jumanji 1995</td>\n",
       "    </tr>\n",
       "    <tr>\n",
       "      <th>2</th>\n",
       "      <td>3</td>\n",
       "      <td>Grumpier Old Men (1995)</td>\n",
       "      <td>Comedy|Romance</td>\n",
       "      <td>Grumpier Old Men 1995</td>\n",
       "    </tr>\n",
       "    <tr>\n",
       "      <th>3</th>\n",
       "      <td>4</td>\n",
       "      <td>Waiting to Exhale (1995)</td>\n",
       "      <td>Comedy|Drama|Romance</td>\n",
       "      <td>Waiting to Exhale 1995</td>\n",
       "    </tr>\n",
       "    <tr>\n",
       "      <th>4</th>\n",
       "      <td>5</td>\n",
       "      <td>Father of the Bride Part II (1995)</td>\n",
       "      <td>Comedy</td>\n",
       "      <td>Father of the Bride Part II 1995</td>\n",
       "    </tr>\n",
       "  </tbody>\n",
       "</table>\n",
       "</div>"
      ],
      "text/plain": [
       "   movieId                               title  \\\n",
       "0        1                    Toy Story (1995)   \n",
       "1        2                      Jumanji (1995)   \n",
       "2        3             Grumpier Old Men (1995)   \n",
       "3        4            Waiting to Exhale (1995)   \n",
       "4        5  Father of the Bride Part II (1995)   \n",
       "\n",
       "                                        genres  \\\n",
       "0  Adventure|Animation|Children|Comedy|Fantasy   \n",
       "1                   Adventure|Children|Fantasy   \n",
       "2                               Comedy|Romance   \n",
       "3                         Comedy|Drama|Romance   \n",
       "4                                       Comedy   \n",
       "\n",
       "                        clean_title  \n",
       "0                    Toy Story 1995  \n",
       "1                      Jumanji 1995  \n",
       "2             Grumpier Old Men 1995  \n",
       "3            Waiting to Exhale 1995  \n",
       "4  Father of the Bride Part II 1995  "
      ]
     },
     "execution_count": 7,
     "metadata": {},
     "output_type": "execute_result"
    }
   ],
   "source": [
    "movies.head()"
   ]
  },
  {
   "cell_type": "markdown",
   "id": "c2b2c737-709d-4391-ba36-50da7dda1242",
   "metadata": {},
   "source": [
    "### Creating a TFIDF Matrix"
   ]
  },
  {
   "cell_type": "code",
   "execution_count": 8,
   "id": "8c1d6a92-8195-4687-96f9-3ed448798fc3",
   "metadata": {},
   "outputs": [],
   "source": [
    "from sklearn.feature_extraction.text import TfidfVectorizer"
   ]
  },
  {
   "cell_type": "code",
   "execution_count": 9,
   "id": "48d6e2c5-a63b-45bb-92f4-8891d8720bb3",
   "metadata": {},
   "outputs": [],
   "source": [
    "vectorizer = TfidfVectorizer(ngram_range=(1, 2))"
   ]
  },
  {
   "cell_type": "code",
   "execution_count": 10,
   "id": "e16d6c41-07cd-417d-9349-a81aa110b9dd",
   "metadata": {},
   "outputs": [],
   "source": [
    "tfidf_matrix = vectorizer.fit_transform(movies[\"clean_title\"])"
   ]
  },
  {
   "cell_type": "markdown",
   "id": "4342ba12-33b6-41e1-9ba7-27f56d752b16",
   "metadata": {},
   "source": [
    "### Creating a Search Function"
   ]
  },
  {
   "cell_type": "code",
   "execution_count": 11,
   "id": "6f0c0724-2042-4985-a2d4-579261e55625",
   "metadata": {},
   "outputs": [],
   "source": [
    "import numpy as np"
   ]
  },
  {
   "cell_type": "code",
   "execution_count": 12,
   "id": "3b1fa241-88e8-4cc4-8f71-700e1aa35279",
   "metadata": {},
   "outputs": [],
   "source": [
    "from sklearn.metrics.pairwise import cosine_similarity"
   ]
  },
  {
   "cell_type": "code",
   "execution_count": 13,
   "id": "bd265601-db31-4730-a092-8e621d7c59b0",
   "metadata": {},
   "outputs": [],
   "source": [
    "def search(term):\n",
    "    \n",
    "    cleaned_pattern = cleaning_title(term)\n",
    "\n",
    "    pattern_vector = vectorizer.transform([cleaned_pattern]) \n",
    "\n",
    "    similarities = cosine_similarity(pattern_vector, tfidf_matrix)\n",
    "\n",
    "    top5 = np.argsort(similarities[0])[-5:][::-1]\n",
    "    \n",
    "    return movies.iloc[top5, 1]"
   ]
  },
  {
   "cell_type": "code",
   "execution_count": 14,
   "id": "8c0ce1a6-c714-4e7e-9d9b-36e25d0ea365",
   "metadata": {},
   "outputs": [],
   "source": [
    "toy_story = search(\"Terminator\") # Testing the function"
   ]
  },
  {
   "cell_type": "code",
   "execution_count": 15,
   "id": "14423bf7-42e7-4a70-86f2-8028ed71845e",
   "metadata": {},
   "outputs": [
    {
     "data": {
      "text/plain": [
       "1207                Terminator, The (1984)\n",
       "13334          Terminator Salvation (2009)\n",
       "31990            Russian Terminator (1989)\n",
       "24155            Terminator Genisys (2015)\n",
       "581      Terminator 2: Judgment Day (1991)\n",
       "Name: title, dtype: object"
      ]
     },
     "execution_count": 15,
     "metadata": {},
     "output_type": "execute_result"
    }
   ],
   "source": [
    "toy_story"
   ]
  },
  {
   "cell_type": "markdown",
   "id": "7ba4a150-37c1-47f3-a294-dee246e63f54",
   "metadata": {},
   "source": [
    "### Building an Interactive Search Box in Jupyter"
   ]
  },
  {
   "cell_type": "code",
   "execution_count": 16,
   "id": "2c3eee1f-51ba-4307-9030-f6eae5adc398",
   "metadata": {},
   "outputs": [],
   "source": [
    "import ipywidgets as widgets\n",
    "from IPython.display import display"
   ]
  },
  {
   "cell_type": "code",
   "execution_count": 17,
   "id": "0682427b-0462-4ef5-b0c7-a18ef831766b",
   "metadata": {},
   "outputs": [],
   "source": [
    "input_widget = widgets.Text(placeholder=\"Please type the title here\")\n",
    "search_button = widgets.Button(description=\"Search\")\n",
    "output_widget = widgets.HTML()"
   ]
  },
  {
   "cell_type": "code",
   "execution_count": 18,
   "id": "3b9a8444-85b2-44d7-9b84-b9e689a735a7",
   "metadata": {},
   "outputs": [],
   "source": [
    "def on_search_clicked(e):\n",
    "\n",
    "    recommendation = search(input_widget.value)\n",
    "\n",
    "    result = \"<ul>\"\n",
    "    for title in recommendation:\n",
    "        result += f\"<li>{title} </li>\"\n",
    "    result += \"</ul>\"\n",
    "    \n",
    "    output_widget.value = result"
   ]
  },
  {
   "cell_type": "code",
   "execution_count": 19,
   "id": "b26a1c03-7b47-4623-bb06-7a3f490092d6",
   "metadata": {},
   "outputs": [],
   "source": [
    "search_button.on_click(on_search_clicked)"
   ]
  },
  {
   "cell_type": "markdown",
   "id": "8e1c1623-b998-43a5-8e79-8fc62dde8f92",
   "metadata": {},
   "source": [
    "#### The search function in action"
   ]
  },
  {
   "cell_type": "markdown",
   "id": "d42e5fd9-2b2b-407c-bd6b-3ca7da2867c0",
   "metadata": {},
   "source": [
    "Note: It usable in realtime, feel free to try it"
   ]
  },
  {
   "cell_type": "code",
   "execution_count": 20,
   "id": "3a0a8615-4753-45ed-a9cb-a5931d2206a5",
   "metadata": {},
   "outputs": [
    {
     "data": {
      "application/vnd.jupyter.widget-view+json": {
       "model_id": "980e958deca14a27bf17ab9c7c5f9392",
       "version_major": 2,
       "version_minor": 0
      },
      "text/plain": [
       "Text(value='', placeholder='Please type the title here')"
      ]
     },
     "metadata": {},
     "output_type": "display_data"
    },
    {
     "data": {
      "application/vnd.jupyter.widget-view+json": {
       "model_id": "222d0ef6373f4968922a125debb450cf",
       "version_major": 2,
       "version_minor": 0
      },
      "text/plain": [
       "Button(description='Search', style=ButtonStyle())"
      ]
     },
     "metadata": {},
     "output_type": "display_data"
    },
    {
     "data": {
      "application/vnd.jupyter.widget-view+json": {
       "model_id": "e23b318f252649d29e01c34d408b5ca7",
       "version_major": 2,
       "version_minor": 0
      },
      "text/plain": [
       "HTML(value='')"
      ]
     },
     "metadata": {},
     "output_type": "display_data"
    }
   ],
   "source": [
    "display(input_widget, search_button, output_widget)"
   ]
  },
  {
   "cell_type": "markdown",
   "id": "105772e2-1a39-484d-8ba7-45b4bf833f65",
   "metadata": {},
   "source": [
    "### Reading in Movie Ratings Data & Finding Users Who Liked the Same Movie\n"
   ]
  },
  {
   "cell_type": "markdown",
   "id": "692f1753-96f7-423a-9e37-fdc9eb0a2d01",
   "metadata": {},
   "source": [
    "In this section finding movies that liked by users who liked the sample movie which is the Toy Story with `movieId` 1."
   ]
  },
  {
   "cell_type": "code",
   "execution_count": 21,
   "id": "c848e782-bbb1-4c31-8d95-6aab31d5e94f",
   "metadata": {},
   "outputs": [],
   "source": [
    "ratings = pd.read_csv(\"ratings.csv\")"
   ]
  },
  {
   "cell_type": "code",
   "execution_count": 22,
   "id": "f0ab5f8d-36c8-4c9c-a983-7fb6255b3121",
   "metadata": {},
   "outputs": [
    {
     "name": "stdout",
     "output_type": "stream",
     "text": [
      "<class 'pandas.core.frame.DataFrame'>\n",
      "RangeIndex: 25000095 entries, 0 to 25000094\n",
      "Data columns (total 4 columns):\n",
      " #   Column     Dtype  \n",
      "---  ------     -----  \n",
      " 0   userId     int64  \n",
      " 1   movieId    int64  \n",
      " 2   rating     float64\n",
      " 3   timestamp  int64  \n",
      "dtypes: float64(1), int64(3)\n",
      "memory usage: 762.9 MB\n"
     ]
    }
   ],
   "source": [
    "ratings.info()"
   ]
  },
  {
   "cell_type": "code",
   "execution_count": 23,
   "id": "4381eb37-950a-4902-9937-81572a2226c0",
   "metadata": {},
   "outputs": [],
   "source": [
    "similar_users = ratings[(ratings[\"movieId\"] == 1) & (ratings[\"rating\"] > 4)][\"userId\"] # Finding the users who also liked the same movie we liked. In this example the Toy Story (movieId: 1)"
   ]
  },
  {
   "cell_type": "code",
   "execution_count": 24,
   "id": "e4d9c45c-b80c-4bf9-a2c2-544bc043ddd5",
   "metadata": {},
   "outputs": [
    {
     "data": {
      "text/plain": [
       "5101            36\n",
       "9939            75\n",
       "11842           86\n",
       "12232           90\n",
       "12504           93\n",
       "             ...  \n",
       "24996419    162519\n",
       "24997459    162524\n",
       "24997758    162527\n",
       "24998300    162530\n",
       "24998525    162533\n",
       "Name: userId, Length: 18835, dtype: int64"
      ]
     },
     "execution_count": 24,
     "metadata": {},
     "output_type": "execute_result"
    }
   ],
   "source": [
    "similar_users"
   ]
  },
  {
   "cell_type": "code",
   "execution_count": 25,
   "id": "32d1f54e-21a9-4233-85da-875531481892",
   "metadata": {},
   "outputs": [],
   "source": [
    "similar_movies = ratings[(ratings[\"userId\"].isin(similar_users)) & (ratings[\"rating\"] > 4)] # Finding the other movies that they liked."
   ]
  },
  {
   "cell_type": "code",
   "execution_count": 26,
   "id": "5d4f1e3e-0f3b-47dc-a03d-d9efbb32a646",
   "metadata": {},
   "outputs": [
    {
     "data": {
      "text/html": [
       "<div>\n",
       "<style scoped>\n",
       "    .dataframe tbody tr th:only-of-type {\n",
       "        vertical-align: middle;\n",
       "    }\n",
       "\n",
       "    .dataframe tbody tr th {\n",
       "        vertical-align: top;\n",
       "    }\n",
       "\n",
       "    .dataframe thead th {\n",
       "        text-align: right;\n",
       "    }\n",
       "</style>\n",
       "<table border=\"1\" class=\"dataframe\">\n",
       "  <thead>\n",
       "    <tr style=\"text-align: right;\">\n",
       "      <th></th>\n",
       "      <th>userId</th>\n",
       "      <th>movieId</th>\n",
       "      <th>rating</th>\n",
       "      <th>timestamp</th>\n",
       "    </tr>\n",
       "  </thead>\n",
       "  <tbody>\n",
       "    <tr>\n",
       "      <th>5101</th>\n",
       "      <td>36</td>\n",
       "      <td>1</td>\n",
       "      <td>5.0</td>\n",
       "      <td>857131378</td>\n",
       "    </tr>\n",
       "    <tr>\n",
       "      <th>5105</th>\n",
       "      <td>36</td>\n",
       "      <td>34</td>\n",
       "      <td>5.0</td>\n",
       "      <td>834413787</td>\n",
       "    </tr>\n",
       "    <tr>\n",
       "      <th>5111</th>\n",
       "      <td>36</td>\n",
       "      <td>110</td>\n",
       "      <td>5.0</td>\n",
       "      <td>834412999</td>\n",
       "    </tr>\n",
       "    <tr>\n",
       "      <th>5114</th>\n",
       "      <td>36</td>\n",
       "      <td>150</td>\n",
       "      <td>5.0</td>\n",
       "      <td>839928587</td>\n",
       "    </tr>\n",
       "    <tr>\n",
       "      <th>5127</th>\n",
       "      <td>36</td>\n",
       "      <td>260</td>\n",
       "      <td>5.0</td>\n",
       "      <td>857131062</td>\n",
       "    </tr>\n",
       "    <tr>\n",
       "      <th>...</th>\n",
       "      <td>...</td>\n",
       "      <td>...</td>\n",
       "      <td>...</td>\n",
       "      <td>...</td>\n",
       "    </tr>\n",
       "    <tr>\n",
       "      <th>24998854</th>\n",
       "      <td>162533</td>\n",
       "      <td>60069</td>\n",
       "      <td>4.5</td>\n",
       "      <td>1280919889</td>\n",
       "    </tr>\n",
       "    <tr>\n",
       "      <th>24998861</th>\n",
       "      <td>162533</td>\n",
       "      <td>67997</td>\n",
       "      <td>4.5</td>\n",
       "      <td>1280920712</td>\n",
       "    </tr>\n",
       "    <tr>\n",
       "      <th>24998876</th>\n",
       "      <td>162533</td>\n",
       "      <td>78499</td>\n",
       "      <td>4.5</td>\n",
       "      <td>1281405901</td>\n",
       "    </tr>\n",
       "    <tr>\n",
       "      <th>24998884</th>\n",
       "      <td>162533</td>\n",
       "      <td>81591</td>\n",
       "      <td>4.5</td>\n",
       "      <td>1297289876</td>\n",
       "    </tr>\n",
       "    <tr>\n",
       "      <th>24998888</th>\n",
       "      <td>162533</td>\n",
       "      <td>88129</td>\n",
       "      <td>4.5</td>\n",
       "      <td>1329514139</td>\n",
       "    </tr>\n",
       "  </tbody>\n",
       "</table>\n",
       "<p>1358326 rows × 4 columns</p>\n",
       "</div>"
      ],
      "text/plain": [
       "          userId  movieId  rating   timestamp\n",
       "5101          36        1     5.0   857131378\n",
       "5105          36       34     5.0   834413787\n",
       "5111          36      110     5.0   834412999\n",
       "5114          36      150     5.0   839928587\n",
       "5127          36      260     5.0   857131062\n",
       "...          ...      ...     ...         ...\n",
       "24998854  162533    60069     4.5  1280919889\n",
       "24998861  162533    67997     4.5  1280920712\n",
       "24998876  162533    78499     4.5  1281405901\n",
       "24998884  162533    81591     4.5  1297289876\n",
       "24998888  162533    88129     4.5  1329514139\n",
       "\n",
       "[1358326 rows x 4 columns]"
      ]
     },
     "execution_count": 26,
     "metadata": {},
     "output_type": "execute_result"
    }
   ],
   "source": [
    "similar_movies"
   ]
  },
  {
   "cell_type": "code",
   "execution_count": 56,
   "id": "537ef134-6ffc-479f-ab3b-9c4aa896a755",
   "metadata": {},
   "outputs": [],
   "source": [
    "rate = similar_movies[\"movieId\"].value_counts() / len(similar_users)"
   ]
  },
  {
   "cell_type": "code",
   "execution_count": 57,
   "id": "8721cfd2-3b29-4d68-9bd9-4fd81aa4c139",
   "metadata": {},
   "outputs": [
    {
     "data": {
      "text/plain": [
       "movieId\n",
       "1         1.000000\n",
       "318       0.445607\n",
       "260       0.403770\n",
       "356       0.370215\n",
       "296       0.367295\n",
       "            ...   \n",
       "128478    0.000053\n",
       "125125    0.000053\n",
       "119701    0.000053\n",
       "107563    0.000053\n",
       "7625      0.000053\n",
       "Name: count, Length: 19282, dtype: float64"
      ]
     },
     "execution_count": 57,
     "metadata": {},
     "output_type": "execute_result"
    }
   ],
   "source": [
    "rate"
   ]
  },
  {
   "cell_type": "code",
   "execution_count": 58,
   "id": "e0392d63-f8d6-4422-86f8-c20996ffbcc9",
   "metadata": {},
   "outputs": [],
   "source": [
    "rate_over_10 = rate[rate > .1] # Finding only the moives that more than 10% of similar users liked."
   ]
  },
  {
   "cell_type": "code",
   "execution_count": 59,
   "id": "ea2a91c9-e20b-4b1c-a112-0c0e57032b7a",
   "metadata": {},
   "outputs": [
    {
     "data": {
      "text/plain": [
       "movieId\n",
       "1        1.000000\n",
       "318      0.445607\n",
       "260      0.403770\n",
       "356      0.370215\n",
       "296      0.367295\n",
       "           ...   \n",
       "953      0.103053\n",
       "551      0.101195\n",
       "1222     0.100876\n",
       "745      0.100345\n",
       "48780    0.100186\n",
       "Name: count, Length: 113, dtype: float64"
      ]
     },
     "execution_count": 59,
     "metadata": {},
     "output_type": "execute_result"
    }
   ],
   "source": [
    "rate_over_10"
   ]
  },
  {
   "cell_type": "code",
   "execution_count": 60,
   "id": "358135ab-ae11-4954-a9fa-19ddf393c05e",
   "metadata": {},
   "outputs": [],
   "source": [
    "recommendations = movies[movies[\"movieId\"].isin(rate_over_10.index)]"
   ]
  },
  {
   "cell_type": "code",
   "execution_count": 61,
   "id": "beefb274-018f-45c6-98b8-f4f6d6d4bc1c",
   "metadata": {},
   "outputs": [
    {
     "data": {
      "text/html": [
       "<div>\n",
       "<style scoped>\n",
       "    .dataframe tbody tr th:only-of-type {\n",
       "        vertical-align: middle;\n",
       "    }\n",
       "\n",
       "    .dataframe tbody tr th {\n",
       "        vertical-align: top;\n",
       "    }\n",
       "\n",
       "    .dataframe thead th {\n",
       "        text-align: right;\n",
       "    }\n",
       "</style>\n",
       "<table border=\"1\" class=\"dataframe\">\n",
       "  <thead>\n",
       "    <tr style=\"text-align: right;\">\n",
       "      <th></th>\n",
       "      <th>movieId</th>\n",
       "      <th>title</th>\n",
       "      <th>genres</th>\n",
       "      <th>clean_title</th>\n",
       "    </tr>\n",
       "  </thead>\n",
       "  <tbody>\n",
       "    <tr>\n",
       "      <th>0</th>\n",
       "      <td>1</td>\n",
       "      <td>Toy Story (1995)</td>\n",
       "      <td>Adventure|Animation|Children|Comedy|Fantasy</td>\n",
       "      <td>Toy Story 1995</td>\n",
       "    </tr>\n",
       "    <tr>\n",
       "      <th>31</th>\n",
       "      <td>32</td>\n",
       "      <td>Twelve Monkeys (a.k.a. 12 Monkeys) (1995)</td>\n",
       "      <td>Mystery|Sci-Fi|Thriller</td>\n",
       "      <td>Twelve Monkeys aka 12 Monkeys 1995</td>\n",
       "    </tr>\n",
       "    <tr>\n",
       "      <th>33</th>\n",
       "      <td>34</td>\n",
       "      <td>Babe (1995)</td>\n",
       "      <td>Children|Drama</td>\n",
       "      <td>Babe 1995</td>\n",
       "    </tr>\n",
       "    <tr>\n",
       "      <th>46</th>\n",
       "      <td>47</td>\n",
       "      <td>Seven (a.k.a. Se7en) (1995)</td>\n",
       "      <td>Mystery|Thriller</td>\n",
       "      <td>Seven aka Se7en 1995</td>\n",
       "    </tr>\n",
       "    <tr>\n",
       "      <th>49</th>\n",
       "      <td>50</td>\n",
       "      <td>Usual Suspects, The (1995)</td>\n",
       "      <td>Crime|Mystery|Thriller</td>\n",
       "      <td>Usual Suspects The 1995</td>\n",
       "    </tr>\n",
       "    <tr>\n",
       "      <th>...</th>\n",
       "      <td>...</td>\n",
       "      <td>...</td>\n",
       "      <td>...</td>\n",
       "      <td>...</td>\n",
       "    </tr>\n",
       "    <tr>\n",
       "      <th>12324</th>\n",
       "      <td>59315</td>\n",
       "      <td>Iron Man (2008)</td>\n",
       "      <td>Action|Adventure|Sci-Fi</td>\n",
       "      <td>Iron Man 2008</td>\n",
       "    </tr>\n",
       "    <tr>\n",
       "      <th>12429</th>\n",
       "      <td>60069</td>\n",
       "      <td>WALL·E (2008)</td>\n",
       "      <td>Adventure|Animation|Children|Romance|Sci-Fi</td>\n",
       "      <td>WALLE 2008</td>\n",
       "    </tr>\n",
       "    <tr>\n",
       "      <th>13362</th>\n",
       "      <td>68954</td>\n",
       "      <td>Up (2009)</td>\n",
       "      <td>Adventure|Animation|Children|Drama</td>\n",
       "      <td>Up 2009</td>\n",
       "    </tr>\n",
       "    <tr>\n",
       "      <th>14813</th>\n",
       "      <td>78499</td>\n",
       "      <td>Toy Story 3 (2010)</td>\n",
       "      <td>Adventure|Animation|Children|Comedy|Fantasy|IMAX</td>\n",
       "      <td>Toy Story 3 2010</td>\n",
       "    </tr>\n",
       "    <tr>\n",
       "      <th>14937</th>\n",
       "      <td>79132</td>\n",
       "      <td>Inception (2010)</td>\n",
       "      <td>Action|Crime|Drama|Mystery|Sci-Fi|Thriller|IMAX</td>\n",
       "      <td>Inception 2010</td>\n",
       "    </tr>\n",
       "  </tbody>\n",
       "</table>\n",
       "<p>113 rows × 4 columns</p>\n",
       "</div>"
      ],
      "text/plain": [
       "       movieId                                      title  \\\n",
       "0            1                           Toy Story (1995)   \n",
       "31          32  Twelve Monkeys (a.k.a. 12 Monkeys) (1995)   \n",
       "33          34                                Babe (1995)   \n",
       "46          47                Seven (a.k.a. Se7en) (1995)   \n",
       "49          50                 Usual Suspects, The (1995)   \n",
       "...        ...                                        ...   \n",
       "12324    59315                            Iron Man (2008)   \n",
       "12429    60069                              WALL·E (2008)   \n",
       "13362    68954                                  Up (2009)   \n",
       "14813    78499                         Toy Story 3 (2010)   \n",
       "14937    79132                           Inception (2010)   \n",
       "\n",
       "                                                 genres  \\\n",
       "0           Adventure|Animation|Children|Comedy|Fantasy   \n",
       "31                              Mystery|Sci-Fi|Thriller   \n",
       "33                                       Children|Drama   \n",
       "46                                     Mystery|Thriller   \n",
       "49                               Crime|Mystery|Thriller   \n",
       "...                                                 ...   \n",
       "12324                           Action|Adventure|Sci-Fi   \n",
       "12429       Adventure|Animation|Children|Romance|Sci-Fi   \n",
       "13362                Adventure|Animation|Children|Drama   \n",
       "14813  Adventure|Animation|Children|Comedy|Fantasy|IMAX   \n",
       "14937   Action|Crime|Drama|Mystery|Sci-Fi|Thriller|IMAX   \n",
       "\n",
       "                              clean_title  \n",
       "0                          Toy Story 1995  \n",
       "31     Twelve Monkeys aka 12 Monkeys 1995  \n",
       "33                              Babe 1995  \n",
       "46                   Seven aka Se7en 1995  \n",
       "49                Usual Suspects The 1995  \n",
       "...                                   ...  \n",
       "12324                       Iron Man 2008  \n",
       "12429                          WALLE 2008  \n",
       "13362                             Up 2009  \n",
       "14813                    Toy Story 3 2010  \n",
       "14937                      Inception 2010  \n",
       "\n",
       "[113 rows x 4 columns]"
      ]
     },
     "execution_count": 61,
     "metadata": {},
     "output_type": "execute_result"
    }
   ],
   "source": [
    "recommendations"
   ]
  },
  {
   "cell_type": "code",
   "execution_count": null,
   "id": "ba2136e5-94b3-4b73-9fa1-b6ac480a4f73",
   "metadata": {},
   "outputs": [],
   "source": []
  }
 ],
 "metadata": {
  "kernelspec": {
   "display_name": "Portfolio Project - Movie Recommendation System",
   "language": "python",
   "name": "movie_recommendation_system"
  },
  "language_info": {
   "codemirror_mode": {
    "name": "ipython",
    "version": 3
   },
   "file_extension": ".py",
   "mimetype": "text/x-python",
   "name": "python",
   "nbconvert_exporter": "python",
   "pygments_lexer": "ipython3",
   "version": "3.12.3"
  }
 },
 "nbformat": 4,
 "nbformat_minor": 5
}
