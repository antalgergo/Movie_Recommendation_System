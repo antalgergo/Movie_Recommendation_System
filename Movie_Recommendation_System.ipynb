{
 "cells": [
  {
   "cell_type": "markdown",
   "id": "e8f37cd8-d903-4ab0-a245-a58b217c4d90",
   "metadata": {},
   "source": [
    "# Portfolio Project - Build a Movie Recommendation System in Python"
   ]
  },
  {
   "cell_type": "markdown",
   "id": "8ff7ec10-6a4a-4e2e-9058-2fc917142abc",
   "metadata": {},
   "source": [
    "### Reading in Our Movie Data in Pandas"
   ]
  },
  {
   "cell_type": "code",
   "execution_count": 1,
   "id": "6f849475-2daa-403e-b2c2-b457050918cd",
   "metadata": {},
   "outputs": [],
   "source": [
    "import pandas as pd"
   ]
  },
  {
   "cell_type": "code",
   "execution_count": 2,
   "id": "036c96fd-4d2a-43c9-972b-ff4d100de9e9",
   "metadata": {},
   "outputs": [],
   "source": [
    "movies = pd.read_csv(\"movies.csv\")"
   ]
  },
  {
   "cell_type": "markdown",
   "id": "8c2ddb7b-c390-4b6c-824f-014c2931fc41",
   "metadata": {},
   "source": [
    "You can download the .csv file from [here](https://files.grouplens.org/datasets/movielens/ml-25m.zip)"
   ]
  },
  {
   "cell_type": "code",
   "execution_count": 3,
   "id": "bfc6eb54-9143-4e1f-a5f0-35f6b670b946",
   "metadata": {},
   "outputs": [
    {
     "data": {
      "text/html": [
       "<div>\n",
       "<style scoped>\n",
       "    .dataframe tbody tr th:only-of-type {\n",
       "        vertical-align: middle;\n",
       "    }\n",
       "\n",
       "    .dataframe tbody tr th {\n",
       "        vertical-align: top;\n",
       "    }\n",
       "\n",
       "    .dataframe thead th {\n",
       "        text-align: right;\n",
       "    }\n",
       "</style>\n",
       "<table border=\"1\" class=\"dataframe\">\n",
       "  <thead>\n",
       "    <tr style=\"text-align: right;\">\n",
       "      <th></th>\n",
       "      <th>movieId</th>\n",
       "      <th>title</th>\n",
       "      <th>genres</th>\n",
       "    </tr>\n",
       "  </thead>\n",
       "  <tbody>\n",
       "    <tr>\n",
       "      <th>0</th>\n",
       "      <td>1</td>\n",
       "      <td>Toy Story (1995)</td>\n",
       "      <td>Adventure|Animation|Children|Comedy|Fantasy</td>\n",
       "    </tr>\n",
       "    <tr>\n",
       "      <th>1</th>\n",
       "      <td>2</td>\n",
       "      <td>Jumanji (1995)</td>\n",
       "      <td>Adventure|Children|Fantasy</td>\n",
       "    </tr>\n",
       "    <tr>\n",
       "      <th>2</th>\n",
       "      <td>3</td>\n",
       "      <td>Grumpier Old Men (1995)</td>\n",
       "      <td>Comedy|Romance</td>\n",
       "    </tr>\n",
       "    <tr>\n",
       "      <th>3</th>\n",
       "      <td>4</td>\n",
       "      <td>Waiting to Exhale (1995)</td>\n",
       "      <td>Comedy|Drama|Romance</td>\n",
       "    </tr>\n",
       "    <tr>\n",
       "      <th>4</th>\n",
       "      <td>5</td>\n",
       "      <td>Father of the Bride Part II (1995)</td>\n",
       "      <td>Comedy</td>\n",
       "    </tr>\n",
       "  </tbody>\n",
       "</table>\n",
       "</div>"
      ],
      "text/plain": [
       "   movieId                               title  \\\n",
       "0        1                    Toy Story (1995)   \n",
       "1        2                      Jumanji (1995)   \n",
       "2        3             Grumpier Old Men (1995)   \n",
       "3        4            Waiting to Exhale (1995)   \n",
       "4        5  Father of the Bride Part II (1995)   \n",
       "\n",
       "                                        genres  \n",
       "0  Adventure|Animation|Children|Comedy|Fantasy  \n",
       "1                   Adventure|Children|Fantasy  \n",
       "2                               Comedy|Romance  \n",
       "3                         Comedy|Drama|Romance  \n",
       "4                                       Comedy  "
      ]
     },
     "execution_count": 3,
     "metadata": {},
     "output_type": "execute_result"
    }
   ],
   "source": [
    "movies.head()"
   ]
  },
  {
   "cell_type": "markdown",
   "id": "4e376a29-a6e4-48c2-9de7-bc3624fa8cec",
   "metadata": {},
   "source": [
    "### Cleaning Movie Titles Using Regex"
   ]
  },
  {
   "cell_type": "code",
   "execution_count": 4,
   "id": "fbc9d810-876c-4698-9719-325db9ff24d7",
   "metadata": {},
   "outputs": [],
   "source": [
    "import re"
   ]
  },
  {
   "cell_type": "code",
   "execution_count": 5,
   "id": "ed88012d-a726-4966-b888-d9fd593e76d7",
   "metadata": {},
   "outputs": [],
   "source": [
    "# This function takes in a title and returns the cleaned title. It should remove any character that isn't a letter, digit, or a space.\n",
    "def cleaning_title(title):\n",
    "\n",
    "    return re.sub(r\"[^a-zA-Z0-9\\s]*\", \"\", title)"
   ]
  },
  {
   "cell_type": "code",
   "execution_count": 6,
   "id": "1532c3a6-5021-42c7-978c-1c88f1b930d5",
   "metadata": {},
   "outputs": [],
   "source": [
    "movies[\"clean_title\"] = movies[\"title\"].apply(cleaning_title)"
   ]
  },
  {
   "cell_type": "code",
   "execution_count": 7,
   "id": "de217acd-b9d2-45cb-b88e-36d589aaec73",
   "metadata": {},
   "outputs": [
    {
     "data": {
      "text/html": [
       "<div>\n",
       "<style scoped>\n",
       "    .dataframe tbody tr th:only-of-type {\n",
       "        vertical-align: middle;\n",
       "    }\n",
       "\n",
       "    .dataframe tbody tr th {\n",
       "        vertical-align: top;\n",
       "    }\n",
       "\n",
       "    .dataframe thead th {\n",
       "        text-align: right;\n",
       "    }\n",
       "</style>\n",
       "<table border=\"1\" class=\"dataframe\">\n",
       "  <thead>\n",
       "    <tr style=\"text-align: right;\">\n",
       "      <th></th>\n",
       "      <th>movieId</th>\n",
       "      <th>title</th>\n",
       "      <th>genres</th>\n",
       "      <th>clean_title</th>\n",
       "    </tr>\n",
       "  </thead>\n",
       "  <tbody>\n",
       "    <tr>\n",
       "      <th>0</th>\n",
       "      <td>1</td>\n",
       "      <td>Toy Story (1995)</td>\n",
       "      <td>Adventure|Animation|Children|Comedy|Fantasy</td>\n",
       "      <td>Toy Story 1995</td>\n",
       "    </tr>\n",
       "    <tr>\n",
       "      <th>1</th>\n",
       "      <td>2</td>\n",
       "      <td>Jumanji (1995)</td>\n",
       "      <td>Adventure|Children|Fantasy</td>\n",
       "      <td>Jumanji 1995</td>\n",
       "    </tr>\n",
       "    <tr>\n",
       "      <th>2</th>\n",
       "      <td>3</td>\n",
       "      <td>Grumpier Old Men (1995)</td>\n",
       "      <td>Comedy|Romance</td>\n",
       "      <td>Grumpier Old Men 1995</td>\n",
       "    </tr>\n",
       "    <tr>\n",
       "      <th>3</th>\n",
       "      <td>4</td>\n",
       "      <td>Waiting to Exhale (1995)</td>\n",
       "      <td>Comedy|Drama|Romance</td>\n",
       "      <td>Waiting to Exhale 1995</td>\n",
       "    </tr>\n",
       "    <tr>\n",
       "      <th>4</th>\n",
       "      <td>5</td>\n",
       "      <td>Father of the Bride Part II (1995)</td>\n",
       "      <td>Comedy</td>\n",
       "      <td>Father of the Bride Part II 1995</td>\n",
       "    </tr>\n",
       "  </tbody>\n",
       "</table>\n",
       "</div>"
      ],
      "text/plain": [
       "   movieId                               title  \\\n",
       "0        1                    Toy Story (1995)   \n",
       "1        2                      Jumanji (1995)   \n",
       "2        3             Grumpier Old Men (1995)   \n",
       "3        4            Waiting to Exhale (1995)   \n",
       "4        5  Father of the Bride Part II (1995)   \n",
       "\n",
       "                                        genres  \\\n",
       "0  Adventure|Animation|Children|Comedy|Fantasy   \n",
       "1                   Adventure|Children|Fantasy   \n",
       "2                               Comedy|Romance   \n",
       "3                         Comedy|Drama|Romance   \n",
       "4                                       Comedy   \n",
       "\n",
       "                        clean_title  \n",
       "0                    Toy Story 1995  \n",
       "1                      Jumanji 1995  \n",
       "2             Grumpier Old Men 1995  \n",
       "3            Waiting to Exhale 1995  \n",
       "4  Father of the Bride Part II 1995  "
      ]
     },
     "execution_count": 7,
     "metadata": {},
     "output_type": "execute_result"
    }
   ],
   "source": [
    "movies.head()"
   ]
  },
  {
   "cell_type": "markdown",
   "id": "c2b2c737-709d-4391-ba36-50da7dda1242",
   "metadata": {},
   "source": [
    "### Creating a TFIDF Matrix"
   ]
  },
  {
   "cell_type": "code",
   "execution_count": 8,
   "id": "8c1d6a92-8195-4687-96f9-3ed448798fc3",
   "metadata": {},
   "outputs": [],
   "source": [
    "from sklearn.feature_extraction.text import TfidfVectorizer"
   ]
  },
  {
   "cell_type": "code",
   "execution_count": 9,
   "id": "48d6e2c5-a63b-45bb-92f4-8891d8720bb3",
   "metadata": {},
   "outputs": [],
   "source": [
    "vectorizer = TfidfVectorizer(ngram_range=(1, 2))"
   ]
  },
  {
   "cell_type": "code",
   "execution_count": 10,
   "id": "e16d6c41-07cd-417d-9349-a81aa110b9dd",
   "metadata": {},
   "outputs": [],
   "source": [
    "tfidf_matrix = vectorizer.fit_transform(movies[\"clean_title\"])"
   ]
  },
  {
   "cell_type": "markdown",
   "id": "4342ba12-33b6-41e1-9ba7-27f56d752b16",
   "metadata": {},
   "source": [
    "### Creating a Search Function"
   ]
  },
  {
   "cell_type": "code",
   "execution_count": 11,
   "id": "6f0c0724-2042-4985-a2d4-579261e55625",
   "metadata": {},
   "outputs": [],
   "source": [
    "import numpy as np"
   ]
  },
  {
   "cell_type": "code",
   "execution_count": 12,
   "id": "3b1fa241-88e8-4cc4-8f71-700e1aa35279",
   "metadata": {},
   "outputs": [],
   "source": [
    "from sklearn.metrics.pairwise import cosine_similarity"
   ]
  },
  {
   "cell_type": "code",
   "execution_count": 13,
   "id": "bd265601-db31-4730-a092-8e621d7c59b0",
   "metadata": {},
   "outputs": [],
   "source": [
    "def search(term):\n",
    "    \n",
    "    cleaned_pattern = cleaning_title(term)\n",
    "\n",
    "    pattern_vector = vectorizer.transform([cleaned_pattern]) \n",
    "\n",
    "    similarities = cosine_similarity(pattern_vector, tfidf_matrix)\n",
    "\n",
    "    top5 = np.argsort(similarities[0])[-5:][::-1]\n",
    "    \n",
    "    return movies.iloc[top5, 1]"
   ]
  },
  {
   "cell_type": "code",
   "execution_count": 28,
   "id": "8c0ce1a6-c714-4e7e-9d9b-36e25d0ea365",
   "metadata": {},
   "outputs": [],
   "source": [
    "toy_story = search(\"Toy Story\") # Testing the function"
   ]
  },
  {
   "cell_type": "code",
   "execution_count": 15,
   "id": "14423bf7-42e7-4a70-86f2-8028ed71845e",
   "metadata": {},
   "outputs": [
    {
     "data": {
      "text/plain": [
       "14813            Toy Story 3 (2010)\n",
       "3021             Toy Story 2 (1999)\n",
       "0                  Toy Story (1995)\n",
       "59767            Toy Story 4 (2019)\n",
       "20497    Toy Story of Terror (2013)\n",
       "Name: title, dtype: object"
      ]
     },
     "execution_count": 15,
     "metadata": {},
     "output_type": "execute_result"
    }
   ],
   "source": [
    "toy_story"
   ]
  },
  {
   "cell_type": "markdown",
   "id": "7ba4a150-37c1-47f3-a294-dee246e63f54",
   "metadata": {},
   "source": [
    "### Building an Interactive Search Box in Jupyter"
   ]
  },
  {
   "cell_type": "code",
   "execution_count": 16,
   "id": "2c3eee1f-51ba-4307-9030-f6eae5adc398",
   "metadata": {},
   "outputs": [],
   "source": [
    "import ipywidgets as widgets\n",
    "from IPython.display import display"
   ]
  },
  {
   "cell_type": "code",
   "execution_count": 17,
   "id": "0682427b-0462-4ef5-b0c7-a18ef831766b",
   "metadata": {},
   "outputs": [],
   "source": [
    "input_widget = widgets.Text(placeholder=\"Please type the title here\")\n",
    "search_button = widgets.Button(description=\"Search\")\n",
    "output_widget = widgets.HTML()"
   ]
  },
  {
   "cell_type": "code",
   "execution_count": 24,
   "id": "3b9a8444-85b2-44d7-9b84-b9e689a735a7",
   "metadata": {},
   "outputs": [],
   "source": [
    "def on_search_clicked(e):\n",
    "\n",
    "    recommendation = search(input_widget.value)\n",
    "\n",
    "    result = \"<ul>\"\n",
    "    for title in recommendation:\n",
    "        result += f\"<li>{title} </li>\"\n",
    "    result += \"</ul>\"\n",
    "    \n",
    "    output_widget.value = result"
   ]
  },
  {
   "cell_type": "code",
   "execution_count": 25,
   "id": "b26a1c03-7b47-4623-bb06-7a3f490092d6",
   "metadata": {},
   "outputs": [],
   "source": [
    "search_button.on_click(on_search_clicked)"
   ]
  },
  {
   "cell_type": "markdown",
   "id": "8e1c1623-b998-43a5-8e79-8fc62dde8f92",
   "metadata": {},
   "source": [
    "#### The search function in action"
   ]
  },
  {
   "cell_type": "markdown",
   "id": "d42e5fd9-2b2b-407c-bd6b-3ca7da2867c0",
   "metadata": {},
   "source": [
    "Note: It usable in realtime - feel free to try it"
   ]
  },
  {
   "cell_type": "code",
   "execution_count": 29,
   "id": "3a0a8615-4753-45ed-a9cb-a5931d2206a5",
   "metadata": {},
   "outputs": [
    {
     "data": {
      "application/vnd.jupyter.widget-view+json": {
       "model_id": "c9738312be46455ab900ebba168fb427",
       "version_major": 2,
       "version_minor": 0
      },
      "text/plain": [
       "Text(value='Matrix', placeholder='Please type the title here')"
      ]
     },
     "metadata": {},
     "output_type": "display_data"
    },
    {
     "data": {
      "application/vnd.jupyter.widget-view+json": {
       "model_id": "7605f2b1040c473cbd5c4e8314c859fe",
       "version_major": 2,
       "version_minor": 0
      },
      "text/plain": [
       "Button(description='Search', style=ButtonStyle())"
      ]
     },
     "metadata": {},
     "output_type": "display_data"
    },
    {
     "data": {
      "application/vnd.jupyter.widget-view+json": {
       "model_id": "0f46b425b5f644499448b45252cfcf0f",
       "version_major": 2,
       "version_minor": 0
      },
      "text/plain": [
       "HTML(value='<ul><li>Matrix, The (1999) </li><li>The Living Matrix (2009) </li><li>Matrix of Evil (2003) </li><…"
      ]
     },
     "metadata": {},
     "output_type": "display_data"
    }
   ],
   "source": [
    "display(input_widget, search_button, output_widget)"
   ]
  },
  {
   "cell_type": "code",
   "execution_count": null,
   "id": "edaddab1-1c8a-4686-8840-d552545a2047",
   "metadata": {},
   "outputs": [],
   "source": []
  }
 ],
 "metadata": {
  "kernelspec": {
   "display_name": "Portfolio Project - Movie Recommendation System",
   "language": "python",
   "name": "movie_recommendation_system"
  },
  "language_info": {
   "codemirror_mode": {
    "name": "ipython",
    "version": 3
   },
   "file_extension": ".py",
   "mimetype": "text/x-python",
   "name": "python",
   "nbconvert_exporter": "python",
   "pygments_lexer": "ipython3",
   "version": "3.12.3"
  }
 },
 "nbformat": 4,
 "nbformat_minor": 5
}
